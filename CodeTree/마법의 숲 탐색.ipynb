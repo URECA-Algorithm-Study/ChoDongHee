{
 "cells": [
  {
   "cell_type": "code",
   "execution_count": 32,
   "metadata": {},
   "outputs": [],
   "source": [
    "import sys\n",
    "# R, C, K = map(int, sys.stdin.readline().split())\n",
    "# ls_golem = [(map(int, sys.stdin.readline().split())) for _ in range(K)]\n",
    "R, C, K = 6, 5, 6\n",
    "ls_golem = [[2, 3], [2, 0], [4, 2], [2, 0], [2, 0], [2, 2]]\n",
    "forest =[[0]*C]*(R+1)"
   ]
  },
  {
   "cell_type": "code",
   "execution_count": 33,
   "metadata": {},
   "outputs": [
    {
     "data": {
      "text/plain": [
       "[[0, 0, 0, 0, 0],\n",
       " [0, 0, 0, 0, 0],\n",
       " [0, 0, 0, 0, 0],\n",
       " [0, 0, 0, 0, 0],\n",
       " [0, 0, 0, 0, 0],\n",
       " [0, 0, 0, 0, 0],\n",
       " [0, 0, 0, 0, 0]]"
      ]
     },
     "execution_count": 33,
     "metadata": {},
     "output_type": "execute_result"
    }
   ],
   "source": [
    "forest"
   ]
  },
  {
   "cell_type": "markdown",
   "metadata": {},
   "source": [
    "북:0 동:1 남:2 서:3 "
   ]
  },
  {
   "cell_type": "code",
   "execution_count": 34,
   "metadata": {},
   "outputs": [],
   "source": [
    "def golem_body(n) : \n",
    "    if n==0 : \n",
    "        return [[0, 'H', 0], [1, 1, 1], [0, 1, 0]]\n",
    "    if n==1 : \n",
    "        return [[0, 1, 0], [1, 1, 'H'], [0, 1, 0]]\n",
    "    if n==2 : \n",
    "        return [[0, 1, 0], [1, 1, 1], [0, 'H', 0]]\n",
    "    if n==3 : \n",
    "        return [[0, 1, 0], ['H', 1, 1], [0, 1, 0]]"
   ]
  },
  {
   "cell_type": "code",
   "execution_count": 35,
   "metadata": {},
   "outputs": [],
   "source": [
    "for g in range(len(ls_golem)) : \n",
    "    ls_golem[g][1] = golem_body(ls_golem[g][1])"
   ]
  },
  {
   "cell_type": "code",
   "execution_count": 36,
   "metadata": {},
   "outputs": [
    {
     "name": "stdout",
     "output_type": "stream",
     "text": [
      "==g : 2==\n",
      "[0, 1, 0]\n",
      "['H', 1, 1]\n",
      "[0, 1, 0]\n",
      "==g : 2==\n",
      "[0, 'H', 0]\n",
      "[1, 1, 1]\n",
      "[0, 1, 0]\n",
      "==g : 4==\n",
      "[0, 1, 0]\n",
      "[1, 1, 1]\n",
      "[0, 'H', 0]\n",
      "==g : 2==\n",
      "[0, 'H', 0]\n",
      "[1, 1, 1]\n",
      "[0, 1, 0]\n",
      "==g : 2==\n",
      "[0, 'H', 0]\n",
      "[1, 1, 1]\n",
      "[0, 1, 0]\n",
      "==g : 2==\n",
      "[0, 1, 0]\n",
      "[1, 1, 1]\n",
      "[0, 'H', 0]\n"
     ]
    }
   ],
   "source": [
    "for g in ls_golem : \n",
    "    print(f'==g : {g[0]}==')\n",
    "    for l in g[1] : \n",
    "        print(l)"
   ]
  },
  {
   "cell_type": "code",
   "execution_count": 19,
   "metadata": {},
   "outputs": [],
   "source": [
    "# check field 남 \n",
    "def chk_crash_S(position) : \n",
    "    if 1 in [[position[0]+2, position[1]], [position[0]+1, position[1]+1], [position[0]+1, position[1]-1]] :\n",
    "        return False, 'C'\n",
    "    return True, 'S'\n",
    "\n",
    "# check field 서 \n",
    "def chk_crash_W(position) : \n",
    "    if 1 in [[position[0]+1, position[1]-1], [position[0]-1, position[1]-1], [position[0], position[1]-2]] :\n",
    "        return False, 'C'\n",
    "    return True, 'W'\n",
    "\n",
    "# check field 동 \n",
    "def chk_crash_W(position) : \n",
    "    if 1 in [[position[0]+1, position[1]+1], [position[0]-1, position[1]+1], [position[0], position[1]+2]] :\n",
    "        return False, 'C'\n",
    "    return True, 'E'"
   ]
  },
  {
   "cell_type": "code",
   "execution_count": null,
   "metadata": {},
   "outputs": [],
   "source": []
  }
 ],
 "metadata": {
  "kernelspec": {
   "display_name": "base",
   "language": "python",
   "name": "python3"
  },
  "language_info": {
   "codemirror_mode": {
    "name": "ipython",
    "version": 3
   },
   "file_extension": ".py",
   "mimetype": "text/x-python",
   "name": "python",
   "nbconvert_exporter": "python",
   "pygments_lexer": "ipython3",
   "version": "3.9.12"
  }
 },
 "nbformat": 4,
 "nbformat_minor": 2
}
