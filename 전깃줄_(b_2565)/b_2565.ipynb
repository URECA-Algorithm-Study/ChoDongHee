{
 "cells": [
  {
   "cell_type": "markdown",
   "metadata": {},
   "source": [
    "### 백준 ( 2565 ) - 전깃줄\n",
    "- ref : https://www.acmicpc.net/problem/2565"
   ]
  },
  {
   "cell_type": "code",
   "execution_count": null,
   "metadata": {},
   "outputs": [],
   "source": [
    "N = int(input())\n",
    "connect = {}\n",
    "maxNum = 0\n",
    "cnt = 0\n",
    "\n",
    "for _ in range(N) : \n",
    "    a, b = map(int, input().split())\n",
    "    connect[(a, b)] = abs(a-b)\n",
    "    maxNum = max(a, b, maxNum)\n",
    "\n",
    "sorted_dec = sorted(connect.items(), key = lambda item : item[1], reverse = True)\n",
    "\n",
    "checkList_A = [0]*maxNum\n",
    "checkList_B = [0]*maxNum\n",
    "\n",
    "while len(sorted_dec) > 0 : \n",
    "    AB_flag = True\n",
    "    (A, B), _ = sorted_dec.pop()\n",
    "    \n",
    "    A, B = A-1, B-1\n",
    "\n",
    "    if A > B : \n",
    "        A, B = B, A\n",
    "        AB_flag = False\n",
    "\n",
    "    start, end = (checkList_A, checkList_B) if AB_flag else (checkList_B, checkList_A)\n",
    "    if AB_flag : \n",
    "        if 1 in end[A+1:B] : \n",
    "            cnt += 1\n",
    "            continue\n",
    "    else : \n",
    "        if 1 in start[A+1:B] : \n",
    "            cnt += 1\n",
    "            continue\n",
    "    \n",
    "    start[A] = 1\n",
    "    if A == B : \n",
    "        end[A] = 1\n",
    "    else :\n",
    "        end[B] = 1\n",
    "print(cnt if cnt < (N - cnt) else N-cnt)"
   ]
  },
  {
   "cell_type": "code",
   "execution_count": 67,
   "metadata": {},
   "outputs": [
    {
     "name": "stdout",
     "output_type": "stream",
     "text": [
      "* A : 2, B : 1\n",
      "==========================\n",
      "* index num   : [1, 2]\n",
      "* checkList_A : [0, 1]\n",
      "--------------------------\n",
      "* checkList_B : [1, 0]\n",
      "==========================\n",
      "\n",
      "\n",
      "* A : 1, B : 2\n",
      "==========================\n",
      "* index num   : [1, 2]\n",
      "* checkList_A : [1, 1]\n",
      "--------------------------\n",
      "* checkList_B : [1, 1]\n",
      "==========================\n",
      "\n",
      "\n",
      "0\n"
     ]
    }
   ],
   "source": [
    "N = int(input())\n",
    "connect = {}\n",
    "maxNum = 0\n",
    "cnt = 0\n",
    "\n",
    "for _ in range(N) : \n",
    "    a, b = map(int, input().split())\n",
    "    connect[(a, b)] = abs(a-b)\n",
    "    maxNum = max(a, b, maxNum)\n",
    "\n",
    "sorted_dec = sorted(connect.items(), key = lambda item : item[1], reverse = True)\n",
    "\n",
    "checkList_A = [0]*maxNum\n",
    "checkList_B = [0]*maxNum\n",
    "\n",
    "while len(sorted_dec) > 0 : \n",
    "    AB_flag = True\n",
    "    (A, B), _ = sorted_dec.pop()\n",
    "    \n",
    "    print(\"* A : {}, B : {}\".format(A, B))\n",
    "\n",
    "    A, B = A-1, B-1\n",
    "\n",
    "    if A > B : \n",
    "        A, B = B, A\n",
    "        AB_flag = False\n",
    "\n",
    "    start, end = (checkList_A, checkList_B) if AB_flag else (checkList_B, checkList_A)\n",
    "    if AB_flag : \n",
    "        if 1 in end[A+1:B] : \n",
    "            print(\"POP!!!\\n\")\n",
    "            cnt += 1\n",
    "            continue\n",
    "    else : \n",
    "        if 1 in start[A+1:B] : \n",
    "            print(\"POP!!!\\n\")\n",
    "            cnt += 1\n",
    "            continue\n",
    "    \n",
    "    start[A] = 1\n",
    "    if A == B : \n",
    "        end[A] = 1\n",
    "    else :\n",
    "        end[B] = 1\n",
    "        print(\"==========================\")\n",
    "    print(\"* index num   : {}\\n\".format([n for n in range(1, maxNum+1)]))\n",
    "    print(\"* checkList_A : {}\\n--------------------------\".format(checkList_A))\n",
    "    print(\"* checkList_B : {}\\n==========================\\n\\n\".format(checkList_B))\n",
    "print(cnt if cnt < (N - cnt) else N-cnt)"
   ]
  },
  {
   "cell_type": "code",
   "execution_count": 25,
   "metadata": {},
   "outputs": [
    {
     "name": "stdout",
     "output_type": "stream",
     "text": [
      "[0, 1, 2, 3] [0, 1, 2, 3]\n",
      "[9, 1, 2, 3] [9, 1, 2, 3]\n",
      "[10, 1, 2, 3] [10, 1, 2, 3]\n"
     ]
    }
   ],
   "source": [
    "ls = [0,1,2,3]\n",
    "copy_ls = ls\n",
    "\n",
    "print(copy_ls, ls)\n",
    "\n",
    "ls[0] = 9\n",
    "\n",
    "print(copy_ls, ls)\n",
    "\n",
    "copy_ls[0] = 10\n",
    "\n",
    "print(copy_ls, ls)"
   ]
  }
 ],
 "metadata": {
  "kernelspec": {
   "display_name": "base",
   "language": "python",
   "name": "python3"
  },
  "language_info": {
   "codemirror_mode": {
    "name": "ipython",
    "version": 3
   },
   "file_extension": ".py",
   "mimetype": "text/x-python",
   "name": "python",
   "nbconvert_exporter": "python",
   "pygments_lexer": "ipython3",
   "version": "3.9.12"
  }
 },
 "nbformat": 4,
 "nbformat_minor": 2
}
