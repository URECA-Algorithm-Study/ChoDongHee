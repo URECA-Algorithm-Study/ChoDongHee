{
 "cells": [
  {
   "cell_type": "markdown",
   "metadata": {},
   "source": [
    "### 백준 ( 2565 ) - 전깃줄\n",
    "- ref : https://www.acmicpc.net/problem/2565"
   ]
  },
  {
   "cell_type": "code",
   "execution_count": 69,
   "metadata": {},
   "outputs": [
    {
     "name": "stdout",
     "output_type": "stream",
     "text": [
      "* A : 2, B : 1\n",
      "==========================\n",
      "* index num   : [1, 2]\n",
      "--------------------------\n",
      "\n",
      "* checkList_A : [0, 1]\n",
      "--------------------------\n",
      "* checkList_B : [1, 0]\n",
      "==========================\n",
      "\n",
      "\n",
      "* A : 1, B : 2\n",
      "==========================\n",
      "* index num   : [1, 2]\n",
      "--------------------------\n",
      "\n",
      "* checkList_A : [1, 1]\n",
      "--------------------------\n",
      "* checkList_B : [1, 1]\n",
      "==========================\n",
      "\n",
      "\n",
      "0\n"
     ]
    }
   ],
   "source": [
    "N = int(input())\n",
    "connect = {}\n",
    "maxNum = 0\n",
    "cnt = 0\n",
    "\n",
    "for _ in range(N) : \n",
    "    a, b = map(int, input().split())\n",
    "    connect[(a, b)] = abs(a-b)\n",
    "    maxNum = max(a, b, maxNum)\n",
    "\n",
    "sorted_dec = sorted(connect.items(), key = lambda item : item[1], reverse = True)\n",
    "\n",
    "checkList_A = [0]*maxNum\n",
    "checkList_B = [0]*maxNum\n",
    "\n",
    "while len(sorted_dec) > 0 : \n",
    "    AB_flag = True\n",
    "    (A, B), _ = sorted_dec.pop()\n",
    "    \n",
    "    print(\"* A : {}, B : {}\".format(A, B))\n",
    "\n",
    "    A, B = A-1, B-1\n",
    "\n",
    "    if A > B : \n",
    "        A, B = B, A\n",
    "        AB_flag = False\n",
    "\n",
    "    start, end = (checkList_A, checkList_B) if AB_flag else (checkList_B, checkList_A)\n",
    "    if AB_flag : \n",
    "        if 1 in end[A+1:B] : \n",
    "            print(\"POP!!!\\n\")\n",
    "            cnt += 1\n",
    "            continue\n",
    "    else : \n",
    "        if 1 in start[A+1:B] : \n",
    "            print(\"POP!!!\\n\")\n",
    "            cnt += 1\n",
    "            continue\n",
    "    \n",
    "    start[A] = 1\n",
    "    if A == B : \n",
    "        end[A] = 1\n",
    "    else :\n",
    "        end[B] = 1\n",
    "        print(\"==========================\")\n",
    "    print(\"* index num   : {}\".format([n for n in range(1, maxNum+1)]))\n",
    "    print(\"--------------------------\\n\")\n",
    "    print(\"* checkList_A : {}\\n--------------------------\".format(checkList_A))\n",
    "    print(\"* checkList_B : {}\\n==========================\\n\\n\".format(checkList_B))\n",
    "print(cnt if cnt < (N - cnt) else N-cnt)"
   ]
  },
  {
   "cell_type": "markdown",
   "metadata": {},
   "source": [
    "## 최장 증가 부분 수열\n",
    "### Longest Increasing Subsequence ( LIS )\n",
    "\n",
    "원소가 ``n``개인 배열의 일부 원소를 골라내서 만든 부분 수열 중, 각 원소가 ```이전 원소보다 크다```는 조건을 만족하고, ```그 길이가 최대인 부분 수열```을 LIS라고 한다."
   ]
  },
  {
   "cell_type": "code",
   "execution_count": 82,
   "metadata": {},
   "outputs": [
    {
     "name": "stdout",
     "output_type": "stream",
     "text": [
      "record : [[1, 4], [3, 1], [4, 2], [5, 3]]\n",
      "==================\n",
      "i : 0\n",
      "* before : [1, 1, 1, 1]\n",
      "* after  : [1, 1, 1, 1]\n",
      "==================\n",
      "i : 1\n",
      "* before : [1, 1, 1, 1]\n",
      ">> j : 0\n",
      "* after  : [1, 1, 1, 1]\n",
      "==================\n",
      "i : 2\n",
      "* before : [1, 1, 1, 1]\n",
      ">> j : 0\n",
      ">> j : 1\n",
      "* after  : [1, 1, 2, 1]\n",
      "==================\n",
      "i : 3\n",
      "* before : [1, 1, 2, 1]\n",
      ">> j : 0\n",
      ">> j : 1\n",
      ">> j : 2\n",
      "* after  : [1, 1, 2, 3]\n",
      "1\n"
     ]
    }
   ],
   "source": [
    "N = int(input())\n",
    "\n",
    "record = []\n",
    "connect = [1 for _ in range(N)]\n",
    "\n",
    "for i in range(N) : \n",
    "    x, y = map(int, input().split())\n",
    "    record.append([x, y])\n",
    "\n",
    "record.sort()\n",
    "print(\"record : {}\".format(record))\n",
    "for i in range(N) : \n",
    "    print('==================')\n",
    "    print(\"i : {}\".format(i))\n",
    "    print(\"* before : {}\".format(connect))\n",
    "    for j in range(i) : \n",
    "        print(f\">> j : {j}\")\n",
    "        if record[i][1] > record[j][1] : \n",
    "            connect[i] = max(connect[i], connect[j] + 1)\n",
    "    print(\"* after  : {}\".format(connect))\n",
    "\n",
    "print(N-max(connect))"
   ]
  }
 ],
 "metadata": {
  "kernelspec": {
   "display_name": "base",
   "language": "python",
   "name": "python3"
  },
  "language_info": {
   "codemirror_mode": {
    "name": "ipython",
    "version": 3
   },
   "file_extension": ".py",
   "mimetype": "text/x-python",
   "name": "python",
   "nbconvert_exporter": "python",
   "pygments_lexer": "ipython3",
   "version": "3.9.12"
  }
 },
 "nbformat": 4,
 "nbformat_minor": 2
}
