{
 "cells": [
  {
   "cell_type": "markdown",
   "metadata": {},
   "source": [
    "#### 백준 ( 28278 ) - 스택2\n",
    "- ref : https://www.acmicpc.net/problem/28278"
   ]
  },
  {
   "cell_type": "code",
   "execution_count": null,
   "metadata": {},
   "outputs": [],
   "source": [
    "import sys \n",
    "n = int(sys.stdin.readline())\n",
    "\n",
    "'''\n",
    "1 x (push)      : append ( X )\n",
    "2   (pop)       : pop & return n or -1 \n",
    "3   (size)      : return size n \n",
    "4   (empty)     : return 1 or 0 ( = not empty ) \n",
    "5   (top)       : pop end of list or -1 ( if empty )\n",
    "'''\n",
    "\n",
    "stack = []\n",
    "\n",
    "for _ in range(n) : \n",
    "    s = sys.stdin.readline().split()\n",
    "\n",
    "    if s[0] == 1 :\n",
    "        stack.append(s[1])\n",
    "    elif s[0] == 2 : \n",
    "        print( stack.pop() if stack else -1 )\n",
    "    elif s[0] == 3 : \n",
    "        print( len(stack) )\n",
    "    elif s[0] == 4 : \n",
    "        print( 0 if stack else 1 )\n",
    "    elif s[0] == 5 : \n",
    "        print( stack[-1] if stack else -1 )"
   ]
  },
  {
   "cell_type": "code",
   "execution_count": null,
   "metadata": {},
   "outputs": [],
   "source": [
    "import sys \n",
    "n = int(sys.stdin.readline())\n",
    "\n",
    "stack = []\n",
    "\n",
    "for _ in range(n) : \n",
    "    s = sys.stdin.readline().split()\n",
    "\n",
    "    if s[0] == 1 :\n",
    "        stack.append(s[1])\n",
    "    elif s[0] == 2 : \n",
    "        print( stack.pop() if stack else -1 )\n",
    "    elif s[0] == 3 : \n",
    "        print( len(stack) )\n",
    "    elif s[0] == 4 : \n",
    "        print( 0 if stack else 1 )\n",
    "    elif s[0] == 5 : \n",
    "        print( stack[-1] if stack else -1 )"
   ]
  }
 ],
 "metadata": {
  "kernelspec": {
   "display_name": "Python 3.9.13 64-bit (microsoft store)",
   "language": "python",
   "name": "python3"
  },
  "language_info": {
   "codemirror_mode": {
    "name": "ipython",
    "version": 3
   },
   "file_extension": ".py",
   "mimetype": "text/x-python",
   "name": "python",
   "nbconvert_exporter": "python",
   "pygments_lexer": "ipython3",
   "version": "3.9.13"
  },
  "orig_nbformat": 4,
  "vscode": {
   "interpreter": {
    "hash": "ed1990458b689c0194eb30a78619afbc97eb157d6cc1d7eae8fd014aac9a6492"
   }
  }
 },
 "nbformat": 4,
 "nbformat_minor": 2
}
