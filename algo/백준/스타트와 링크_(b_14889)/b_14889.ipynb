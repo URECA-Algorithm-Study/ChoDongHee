{
 "cells": [
  {
   "cell_type": "markdown",
   "metadata": {},
   "source": [
    "### 백준 ( 14889 ) - 스타트와 링크 \n",
    "- url : https://www.acmicpc.net/problem/14889"
   ]
  },
  {
   "cell_type": "code",
   "execution_count": null,
   "metadata": {},
   "outputs": [],
   "source": [
    "import sys\n",
    "from math import inf\n",
    "\n",
    "N = int(input())\n",
    "scores = [list(map(int, sys.stdin.readline().split())) for _ in range(N)]\n",
    "\n",
    "minDiff = inf\n",
    "nums = [n for n in range(1, N+1)]\n",
    "rs = []\n",
    "\n",
    "def back(temp, M) : \n",
    "    if len(temp) == N//2 : \n",
    "        rs.append([list(set(temp)), list(set(nums)-set(temp))])\n",
    "        return \n",
    "    \n",
    "    for i in range(M+1, N+1) : \n",
    "        if i not in temp : \n",
    "            temp.append(i)\n",
    "            back(temp, i)\n",
    "            temp.pop()\n",
    "\n",
    "back([], 0)\n",
    "\n",
    "for a, b in rs : \n",
    "    scoreA, scoreB = 0, 0\n",
    "    for x in range(len(a)) : \n",
    "        for y in range(x+1, len(a)) : \n",
    "            aX, aY = a[x]-1, a[y]-1\n",
    "            bX, bY = b[x]-1, b[y]-1\n",
    "            scoreA += (scores[aX][aY] + scores[aY][aX])\n",
    "            scoreB += (scores[bX][bY] + scores[bY][bX])\n",
    "\n",
    "    minDiff = min(minDiff, abs(scoreA - scoreB))\n",
    "\n",
    "print(minDiff)\n"
   ]
  }
 ],
 "metadata": {
  "language_info": {
   "name": "python"
  }
 },
 "nbformat": 4,
 "nbformat_minor": 2
}
