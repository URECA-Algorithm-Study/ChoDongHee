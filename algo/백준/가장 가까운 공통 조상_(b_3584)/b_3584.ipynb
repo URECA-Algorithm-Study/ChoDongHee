{
 "cells": [
  {
   "cell_type": "code",
   "execution_count": 9,
   "metadata": {},
   "outputs": [
    {
     "name": "stdout",
     "output_type": "stream",
     "text": [
      "tree :  [0, 3, 0, 2, 3, 1]\n",
      "a_pNode : [3, 2]\n",
      "b_pNode : [5, 1, 3, 2]\n",
      "3\n"
     ]
    }
   ],
   "source": [
    "N = int(input())\n",
    "\n",
    "for _ in range(N) : \n",
    "    T = int(input())\n",
    "    tree = [0 for _ in range(T+1)]\n",
    "    for t in range(T-1) : \n",
    "        a, b = map(int, input().split())\n",
    "        tree[b] = a\n",
    "    \n",
    "    a, b = map(int, input().split())\n",
    "\n",
    "    print(\"tree : \",tree)\n",
    "    a_pNodes = [a]\n",
    "    while tree[a] != 0 :\n",
    "        a_pNodes.append(tree[a])\n",
    "        a = tree[a]\n",
    "    \n",
    "    b_pNodes = [b]\n",
    "    while tree[b] != 0 : \n",
    "        b_pNodes.append(tree[b])\n",
    "        b = tree[b]\n",
    "    \n",
    "    print(f\"a_pNode : {a_pNodes}\")\n",
    "    print(f\"b_pNode : {b_pNodes}\")\n",
    "\n",
    "    if len(a_pNodes)!=len(b_pNodes) : \n",
    "        if len(a_pNodes) > len(b_pNodes) : \n",
    "            a_pNodes = a_pNodes[len(a_pNodes) - len(b_pNodes):]\n",
    "        else :\n",
    "            b_pNodes = b_pNodes[len(b_pNodes) - len(a_pNodes):]\n",
    "\n",
    "    for a_idx, b_idx in zip(a_pNodes, b_pNodes) : \n",
    "        if a_idx == b_idx : \n",
    "            print(a_idx)   \n",
    "            break     "
   ]
  },
  {
   "cell_type": "code",
   "execution_count": null,
   "metadata": {},
   "outputs": [],
   "source": [
    "N = int(input())\n",
    "\n",
    "for _ in range(N) : \n",
    "    T = int(input())\n",
    "    tree = [0 for _ in range(T+1)]\n",
    "    for t in range(T-1) : \n",
    "        a, b = map(int, input().split())\n",
    "        tree[b] = a\n",
    "    \n",
    "    a, b = map(int, input().split())\n",
    "\n",
    "    a_pNodes = [a]\n",
    "    while tree[a] != 0 :\n",
    "        a_pNodes.append(tree[a])\n",
    "        a = tree[a] \n",
    "    \n",
    "    b_pNodes = [b]\n",
    "    while tree[b] != 0 : \n",
    "        b_pNodes.append(tree[b])\n",
    "        b = tree[b]\n",
    "\n",
    "    if len(a_pNodes)!=len(b_pNodes) : \n",
    "        if len(a_pNodes) > len(b_pNodes) : \n",
    "            a_pNodes = a_pNodes[len(a_pNodes) - len(b_pNodes):]\n",
    "        else :\n",
    "            b_pNodes = b_pNodes[len(b_pNodes) - len(a_pNodes):]\n",
    "\n",
    "    for a_idx, b_idx in zip(a_pNodes, b_pNodes) : \n",
    "        if a_idx == b_idx : \n",
    "            print(a_idx)   \n",
    "            break     "
   ]
  }
 ],
 "metadata": {
  "kernelspec": {
   "display_name": "Python 3",
   "language": "python",
   "name": "python3"
  },
  "language_info": {
   "codemirror_mode": {
    "name": "ipython",
    "version": 3
   },
   "file_extension": ".py",
   "mimetype": "text/x-python",
   "name": "python",
   "nbconvert_exporter": "python",
   "pygments_lexer": "ipython3",
   "version": "3.9.13"
  },
  "orig_nbformat": 4,
  "vscode": {
   "interpreter": {
    "hash": "ed1990458b689c0194eb30a78619afbc97eb157d6cc1d7eae8fd014aac9a6492"
   }
  }
 },
 "nbformat": 4,
 "nbformat_minor": 2
}
