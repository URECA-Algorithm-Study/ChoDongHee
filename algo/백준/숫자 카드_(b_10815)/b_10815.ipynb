{
 "cells": [
  {
   "cell_type": "markdown",
   "metadata": {},
   "source": [
    "### 백준 ( 10815 ) - 숫자 카드\n",
    "- ref : https://www.acmicpc.net/problem/10815"
   ]
  },
  {
   "cell_type": "markdown",
   "metadata": {},
   "source": [
    "<span style=\"font-style:italic; font-size: 1.5em; font-weight: bold; color: Orange;\">\n",
    "case 1 </span>"
   ]
  },
  {
   "cell_type": "markdown",
   "metadata": {},
   "source": [
    "<span style=\"font-style:italic; font-size: 1.2em; color: White;\">\n",
    "* binary search , 시간초과\n",
    "</span>"
   ]
  },
  {
   "cell_type": "code",
   "execution_count": null,
   "metadata": {},
   "outputs": [],
   "source": [
    "import sys\n",
    "N = int(input())\n",
    "cards = list(map(int, sys.stdin.readline().split()))\n",
    "M = int(input())\n",
    "match = list(map(int, sys.stdin.readline().split()))\n",
    "\n",
    "cards.sort()\n",
    "\n",
    "def binary_search(array, target, start, end) : \n",
    "    if start > end : \n",
    "        return None\n",
    "    mid = (start+end)//2\n",
    "\n",
    "    if array[mid] == target : \n",
    "        return array.count(target)\n",
    "    elif array[mid] < target : \n",
    "        return binary_search(array, target, mid+1, end)\n",
    "    else : \n",
    "        return binary_search(array, target, start, mid-1)\n",
    "\n",
    "for m in match:\n",
    "    rs = binary_search(cards, m, 0, len(cards)-1)\n",
    "    if rs is not None : \n",
    "        print(rs, end=' ')\n",
    "    else : \n",
    "        print(0, end=' ')"
   ]
  },
  {
   "cell_type": "markdown",
   "metadata": {},
   "source": [
    "<span style=\"font-style:italic; font-size: 1.2em; color: White;\">\n",
    "* bisect , 성공\n",
    "</span>"
   ]
  },
  {
   "cell_type": "code",
   "execution_count": null,
   "metadata": {},
   "outputs": [],
   "source": [
    "from bisect import bisect_left, bisect_right\n",
    "import sys\n",
    "N = int(input())\n",
    "cards = list(map(int, sys.stdin.readline().split()))\n",
    "M = int(input())\n",
    "match = list(map(int, sys.stdin.readline().split()))\n",
    "\n",
    "cards.sort()\n",
    "\n",
    "def binary_search(array, target) : \n",
    "    left_index = bisect_left(array, target)\n",
    "    right_index = bisect_right(array, target)\n",
    "    return right_index - left_index\n",
    "\n",
    "for m in match : \n",
    "    print(binary_search(cards, m), end=' ')"
   ]
  }
 ],
 "metadata": {
  "language_info": {
   "name": "python"
  }
 },
 "nbformat": 4,
 "nbformat_minor": 2
}
