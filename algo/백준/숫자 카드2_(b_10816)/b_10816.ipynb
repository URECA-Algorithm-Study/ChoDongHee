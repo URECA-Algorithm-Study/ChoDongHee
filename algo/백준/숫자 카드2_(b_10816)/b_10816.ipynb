{
 "cells": [
  {
   "cell_type": "markdown",
   "metadata": {},
   "source": [
    "### 백준 ( 10816 ) - 숫자 카드2\n",
    "- ref : https://www.acmicpc.net/problem/10816"
   ]
  },
  {
   "cell_type": "markdown",
   "metadata": {},
   "source": [
    "< case 1 >"
   ]
  },
  {
   "cell_type": "code",
   "execution_count": 2,
   "metadata": {},
   "outputs": [
    {
     "data": {
      "text/plain": [
       "{6: 1, 3: 2, 2: 1, 10: 3, -10: 2, 7: 1}"
      ]
     },
     "execution_count": 2,
     "metadata": {},
     "output_type": "execute_result"
    }
   ],
   "source": [
    "import sys\n",
    "N = int(input())\n",
    "\n",
    "# cards = list((map(int, sys.stdin.readline().split()))\n",
    "cards = [6, 3, 2, 10, 10, 10, -10, -10, 7, 3]\n",
    "cards_map = {}\n",
    "for c in cards : \n",
    "    if c in cards_map.keys() :\n",
    "        cards_map[c] += 1\n",
    "    else : \n",
    "        cards_map[c] = 1\n",
    "cards_map\n"
   ]
  },
  {
   "cell_type": "code",
   "execution_count": 3,
   "metadata": {},
   "outputs": [],
   "source": [
    "M = int(input())\n",
    "# match = list((map(int, sys.stdin.readline().split()))\n",
    "match = [10, 9, -5, 2, 3, 4, 5, -10]\n",
    "rs = ''\n",
    "for m in match : \n",
    "    if m in cards_map.keys() : \n",
    "        rs += f\"{cards_map[m]} \" \n",
    "    else : \n",
    "        rs += \"0 \""
   ]
  },
  {
   "cell_type": "code",
   "execution_count": 4,
   "metadata": {},
   "outputs": [
    {
     "data": {
      "text/plain": [
       "'3 0 0 1 2 0 0 2 '"
      ]
     },
     "execution_count": 4,
     "metadata": {},
     "output_type": "execute_result"
    }
   ],
   "source": [
    "rs"
   ]
  },
  {
   "cell_type": "code",
   "execution_count": null,
   "metadata": {},
   "outputs": [],
   "source": [
    "import sys\n",
    "N = int(input())\n",
    "cards = list((map(int, sys.stdin.readline().split())))\n",
    "M = int(input())\n",
    "match = list((map(int, sys.stdin.readline().split())))\n",
    "\n",
    "cards_map = {}\n",
    "for c in cards : \n",
    "    if c in cards_map.keys() :\n",
    "        cards_map[c] += 1\n",
    "    else : \n",
    "        cards_map[c] = 1\n",
    "\n",
    "rs = ''\n",
    "for m in match : \n",
    "    if m in cards_map.keys() : \n",
    "        rs += f\"{cards_map[m]} \" \n",
    "    else : \n",
    "        rs += \"0 \"\n",
    "\n",
    "print(rs)"
   ]
  },
  {
   "cell_type": "markdown",
   "metadata": {},
   "source": [
    "< case 2 >"
   ]
  },
  {
   "cell_type": "code",
   "execution_count": 6,
   "metadata": {},
   "outputs": [
    {
     "name": "stdout",
     "output_type": "stream",
     "text": [
      "[-10, -10, 2, 3, 3, 6, 7, 10, 10, 10]\n",
      "3 0 0 1 2 0 0 2 "
     ]
    }
   ],
   "source": [
    "# import sys\n",
    "# N = int(input())\n",
    "# cards = list((map(int, sys.stdin.readline().split())))\n",
    "# M = int(input())\n",
    "# match = list((map(int, sys.stdin.readline().split())))\n",
    "\n",
    "cards = [6, 3, 2, 10, 10, 10, -10, -10, 7, 3]\n",
    "match = [10, 9, -5, 2, 3, 4, 5, -10]\n",
    "cards.sort()\n",
    "\n",
    "print(cards)\n",
    "\n",
    "def binary_search(array, target, start, end) : \n",
    "    if start > end : \n",
    "        return None\n",
    "    mid = (start+end)//2\n",
    "    if array[mid] == target : \n",
    "        return array[start:end+1].count(target)\n",
    "    elif array[mid] < target : \n",
    "        return binary_search(array, target, mid+1, end)\n",
    "    else : \n",
    "        return binary_search(array, target, start, mid-1)\n",
    "\n",
    "for i in range(len(match)) : \n",
    "    rs = binary_search(cards, match[i], 0, len(cards)-1)\n",
    "\n",
    "    if rs is not None :\n",
    "        print(rs, end=' ')\n",
    "    else : \n",
    "        print(0, end=' ')"
   ]
  }
 ],
 "metadata": {
  "kernelspec": {
   "display_name": "base",
   "language": "python",
   "name": "python3"
  },
  "language_info": {
   "codemirror_mode": {
    "name": "ipython",
    "version": 3
   },
   "file_extension": ".py",
   "mimetype": "text/x-python",
   "name": "python",
   "nbconvert_exporter": "python",
   "pygments_lexer": "ipython3",
   "version": "3.9.12"
  }
 },
 "nbformat": 4,
 "nbformat_minor": 2
}
