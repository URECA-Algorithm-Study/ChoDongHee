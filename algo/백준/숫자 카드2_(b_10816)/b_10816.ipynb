{
 "cells": [
  {
   "cell_type": "markdown",
   "metadata": {},
   "source": [
    "### 백준 ( 10816 ) - 숫자 카드2\n",
    "- ref : https://www.acmicpc.net/problem/10816"
   ]
  },
  {
   "cell_type": "markdown",
   "metadata": {},
   "source": [
    "<span style=\"font-style:italic; font-size: 1.5em; font-weight: bold; color: Orange;\">\n",
    "case 1 </span>"
   ]
  },
  {
   "cell_type": "markdown",
   "metadata": {},
   "source": [
    "<span style=\"font-style:italic; font-size: 1.2em; color: White;\">\n",
    "* dictionary , 시간초과\n",
    "</span>"
   ]
  },
  {
   "cell_type": "code",
   "execution_count": 7,
   "metadata": {},
   "outputs": [
    {
     "name": "stdout",
     "output_type": "stream",
     "text": [
      "3 0 0 1 2 0 0 2 \n"
     ]
    }
   ],
   "source": [
    "import sys\n",
    "# N = int(input())\n",
    "# cards = list((map(int, sys.stdin.readline().split()))\n",
    "# M = int(input())\n",
    "# match = list((map(int, sys.stdin.readline().split()))\n",
    "cards = [6, 3, 2, 10, 10, 10, -10, -10, 7, 3]\n",
    "match = [10, 9, -5, 2, 3, 4, 5, -10]\n",
    "cards_map = {}\n",
    "rs = ''\n",
    "\n",
    "for c in cards : \n",
    "    if c in cards_map.keys() :\n",
    "        cards_map[c] += 1\n",
    "    else : \n",
    "        cards_map[c] = 1\n",
    "for m in match : \n",
    "    if m in cards_map.keys() : \n",
    "        rs += f\"{cards_map[m]} \" \n",
    "    else : \n",
    "        rs += \"0 \"\n",
    "print(rs)"
   ]
  },
  {
   "cell_type": "markdown",
   "metadata": {},
   "source": [
    "<span style=\"font-style:italic; font-size: 1.2em; color: White;\">\n",
    "* collections.Counter ( = dictionary ), 성공\n",
    "</span>"
   ]
  },
  {
   "cell_type": "code",
   "execution_count": 8,
   "metadata": {},
   "outputs": [
    {
     "name": "stdout",
     "output_type": "stream",
     "text": [
      "3 0 0 1 2 0 0 2 "
     ]
    }
   ],
   "source": [
    "from collections import Counter\n",
    "import sys\n",
    "N = int(input())\n",
    "cards = list(map(int, sys.stdin.readline().split()))\n",
    "M = int(input())\n",
    "match = list(map(int, sys.stdin.readline().split()))\n",
    "# cards = [6, 3, 2, 10, 10, 10, -10, -10, 7, 3]\n",
    "# match = [10, 9, -5, 2, 3, 4, 5, -10]\n",
    "\n",
    "count = Counter(cards)\n",
    "\n",
    "for m in match : \n",
    "    if m in count.keys() : \n",
    "        print(count[m], end=' ')  \n",
    "    else : \n",
    "        print(0, end=' ')"
   ]
  },
  {
   "cell_type": "markdown",
   "metadata": {},
   "source": [
    "<span style=\"font-style:italic; font-size: 1.5em; font-weight: bold; color: Orange;\">\n",
    "case 2 </span>"
   ]
  },
  {
   "cell_type": "markdown",
   "metadata": {},
   "source": [
    "<span style=\"font-style:italic; font-size: 1.2em; color: White;\">\n",
    "* binary search , 실패\n",
    "</span>"
   ]
  },
  {
   "cell_type": "code",
   "execution_count": 6,
   "metadata": {},
   "outputs": [
    {
     "name": "stdout",
     "output_type": "stream",
     "text": [
      "[-10, -10, 2, 3, 3, 6, 7, 10, 10, 10]\n",
      "3 0 0 1 2 0 0 2 "
     ]
    }
   ],
   "source": [
    "import sys\n",
    "N = int(input())\n",
    "cards = list((map(int, sys.stdin.readline().split())))\n",
    "M = int(input())\n",
    "match = list((map(int, sys.stdin.readline().split())))\n",
    "\n",
    "# cards = [6, 3, 2, 10, 10, 10, -10, -10, 7, 3]\n",
    "# match = [10, 9, -5, 2, 3, 4, 5, -10]\n",
    "cards.sort()\n",
    "\n",
    "def binary_search(array, target, start, end) : \n",
    "    if start > end : \n",
    "        return None\n",
    "    mid = (start+end)//2\n",
    "    if array[mid] == target : \n",
    "        return array[start:end+1].count(target)\n",
    "    elif array[mid] < target : \n",
    "        return binary_search(array, target, mid+1, end)\n",
    "    else : \n",
    "        return binary_search(array, target, start, mid-1)\n",
    "\n",
    "for i in range(len(match)) : \n",
    "    rs = binary_search(cards, match[i], 0, len(cards)-1)\n",
    "\n",
    "    if rs is not None :\n",
    "        print(rs, end=' ')\n",
    "    else : \n",
    "        print(0, end=' ')"
   ]
  },
  {
   "cell_type": "markdown",
   "metadata": {},
   "source": [
    "<span style=\"font-style:italic; font-size: 1.2em; color: White;\">\n",
    "* bisect ( = binary search ), 성공\n",
    "</span>\n",
    "\n",
    "- bisect : 파이썬 내장 이진탐색 모듈"
   ]
  },
  {
   "cell_type": "code",
   "execution_count": null,
   "metadata": {},
   "outputs": [],
   "source": [
    "from bisect import bisect_left, bisect_right\n",
    "import sys\n",
    "N = int(input())\n",
    "cards = list((map(int, sys.stdin.readline().split())))\n",
    "M = int(input())\n",
    "match = list((map(int, sys.stdin.readline().split())))\n",
    "\n",
    "cards.sort()\n",
    "\n",
    "def count_m(array, num) : \n",
    "    left_index = bisect_left(array, num)        # bs를 하고 num이 들어갈 가장 왼쪽 인덱스\n",
    "    right_index = bisect_right(array, num)      # bs를 하고 num이 들어갈 가장 오른쪽 인덱스\n",
    "    return right_index-left_index\n",
    "\n",
    "for m in match:\n",
    "    print(count_m(cards, m), end=' ')"
   ]
  }
 ],
 "metadata": {
  "kernelspec": {
   "display_name": "base",
   "language": "python",
   "name": "python3"
  },
  "language_info": {
   "codemirror_mode": {
    "name": "ipython",
    "version": 3
   },
   "file_extension": ".py",
   "mimetype": "text/x-python",
   "name": "python",
   "nbconvert_exporter": "python",
   "pygments_lexer": "ipython3",
   "version": "3.9.12"
  }
 },
 "nbformat": 4,
 "nbformat_minor": 2
}
