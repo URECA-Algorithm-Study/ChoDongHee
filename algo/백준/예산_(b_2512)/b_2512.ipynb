{
 "cells": [
  {
   "cell_type": "markdown",
   "metadata": {},
   "source": [
    "### 백준 ( 2512 ) - 예산\n",
    "- ref : https://www.acmicpc.net/problem/2512"
   ]
  },
  {
   "cell_type": "code",
   "execution_count": null,
   "metadata": {},
   "outputs": [],
   "source": [
    "import sys\n",
    "N = int(input())\n",
    "ls = sorted(list(map(int, sys.stdin.readline().split())))\n",
    "M = int(input())\n",
    "\n",
    "if sum(ls) <= M : \n",
    "    print(ls[-1])\n",
    "else : \n",
    "    left, right = 0, ls[-1]\n",
    "    rs = 0\n",
    "    while left <= right :\n",
    "        mid = (left+right)//2\n",
    "        total = sum([min(a, mid) for a in ls])\n",
    "\n",
    "        if total <= M : \n",
    "            left = mid+1\n",
    "            rs = mid\n",
    "        else:\n",
    "            right = mid-1\n",
    "\n",
    "    print(rs)"
   ]
  },
  {
   "cell_type": "code",
   "execution_count": 2,
   "metadata": {},
   "outputs": [
    {
     "name": "stdout",
     "output_type": "stream",
     "text": [
      "127\n"
     ]
    }
   ],
   "source": [
    "n = int(input())\n",
    "nums = sorted(list(map(int, sys.stdin.readline().strip().split())))\n",
    "m = int(input())\n",
    "\n",
    "low, high = 0, max(nums) \n",
    "\n",
    "answer = 0 \n",
    "while low <= high:\n",
    "    total = 0\n",
    "    mid = (low + high) // 2 \n",
    "\n",
    "    for num in nums: \n",
    "        total += min(num, mid)\n",
    "    \n",
    "    if total <= m: \n",
    "        low = mid + 1\n",
    "        answer = mid\n",
    "    else: \n",
    "        high = mid - 1\n",
    "\n",
    "print(answer)"
   ]
  }
 ],
 "metadata": {
  "kernelspec": {
   "display_name": "base",
   "language": "python",
   "name": "python3"
  },
  "language_info": {
   "codemirror_mode": {
    "name": "ipython",
    "version": 3
   },
   "file_extension": ".py",
   "mimetype": "text/x-python",
   "name": "python",
   "nbconvert_exporter": "python",
   "pygments_lexer": "ipython3",
   "version": "3.9.12"
  }
 },
 "nbformat": 4,
 "nbformat_minor": 2
}
