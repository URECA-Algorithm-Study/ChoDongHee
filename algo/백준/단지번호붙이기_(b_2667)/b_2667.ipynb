{
 "cells": [
  {
   "cell_type": "markdown",
   "metadata": {},
   "source": [
    "### 백준 ( 2667 ) - 단지번호붙이기 \n",
    "- ref : https://www.acmicpc.net/problem/2667"
   ]
  },
  {
   "cell_type": "code",
   "execution_count": null,
   "metadata": {},
   "outputs": [],
   "source": [
    "# 1은 집이 있는 곳, 0은 집이 없는 곳 \n",
    "# 연결된 집의 모양\n",
    "dx = [1, 1, 0, 0]\n",
    "dy = [0, 0, 1, 1]\n",
    "\n",
    "N = int(input())\n",
    "map_info = [input() for _ in range(N)]\n",
    "\n"
   ]
  }
 ],
 "metadata": {
  "language_info": {
   "name": "python"
  }
 },
 "nbformat": 4,
 "nbformat_minor": 2
}
