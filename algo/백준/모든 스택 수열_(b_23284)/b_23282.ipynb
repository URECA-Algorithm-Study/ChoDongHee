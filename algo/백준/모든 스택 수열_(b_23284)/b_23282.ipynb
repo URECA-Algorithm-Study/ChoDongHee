{
 "cells": [
  {
   "cell_type": "markdown",
   "metadata": {},
   "source": [
    "### 백준 ( 23284 ) - 모든 스택 수열\n",
    "- ref : https://www.acmicpc.net/problem/23284"
   ]
  },
  {
   "cell_type": "code",
   "execution_count": 4,
   "metadata": {},
   "outputs": [
    {
     "name": "stdout",
     "output_type": "stream",
     "text": [
      "[0, 1]\n",
      "[0, 2]\n",
      "[0, 3]\n",
      "[0, 4]\n",
      "[1, 2]\n",
      "[1, 3]\n",
      "[1, 4]\n",
      "[2, 3]\n",
      "[2, 4]\n",
      "[3, 4]\n"
     ]
    }
   ],
   "source": [
    "# n = int(input())\n",
    "\n",
    "# stackList = [ _ for _ in range(1, n+1)]\n",
    "\n",
    "'''\n",
    "1 2 3\n",
    "1 3 2\n",
    "2 1 3 \n",
    "2 3 1\n",
    "3 1 2 \n",
    "3 2 1 \n",
    "'''\n",
    "\n",
    "'''\n",
    "1 - 2 3 -> [2, 3] / [3, 2]\n",
    "'''\n",
    "\n",
    "def solution(cnt, next) :\n",
    "    return \n",
    "\n",
    "n = int(input())\n",
    "solution(0, 0)\n"
   ]
  }
 ],
 "metadata": {
  "kernelspec": {
   "display_name": "Python 3",
   "language": "python",
   "name": "python3"
  },
  "language_info": {
   "codemirror_mode": {
    "name": "ipython",
    "version": 3
   },
   "file_extension": ".py",
   "mimetype": "text/x-python",
   "name": "python",
   "nbconvert_exporter": "python",
   "pygments_lexer": "ipython3",
   "version": "3.9.12"
  }
 },
 "nbformat": 4,
 "nbformat_minor": 2
}
