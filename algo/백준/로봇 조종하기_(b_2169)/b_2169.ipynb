{
 "cells": [
  {
   "cell_type": "markdown",
   "metadata": {},
   "source": [
    "### 백준 ( 2169 ) - 로봇 조종하기\n",
    "- ref : https://www.acmicpc.net/problem/2169"
   ]
  },
  {
   "cell_type": "code",
   "execution_count": 171,
   "metadata": {},
   "outputs": [
    {
     "data": {
      "text/plain": [
       "[[10, 25, 7, 8, 13],\n",
       " [68, 24, -78, 63, 32],\n",
       " [12, -69, 100, -29, -25],\n",
       " [-16, -22, -57, -33, 99],\n",
       " [7, -76, -11, 77, 15]]"
      ]
     },
     "execution_count": 171,
     "metadata": {},
     "output_type": "execute_result"
    }
   ],
   "source": [
    "import sys\n",
    "N, M = map(int, input().split())                            # 목적지 : N x M\n",
    "\n",
    "value = [[10, 25, 7, 8, 13],\n",
    "        [68, 24, -78, 63, 32],\n",
    "        [12, -69, 100, -29, -25],\n",
    "        [-16, -22, -57, -33, 99],\n",
    "        [7, -76, -11, 77, 15]]\n",
    "\n",
    "value"
   ]
  },
  {
   "cell_type": "code",
   "execution_count": 172,
   "metadata": {},
   "outputs": [],
   "source": [
    "# value에 1번째 줄은 value의 (1, 1) 위치에서 시작하게 된다\n",
    "# 이동은 왼쪽 -> 오른쪽 , 오른쪽 -> 왼쪽으로만 이동이 가능하다 \n",
    "# 즉, 시작하는 시점에서는 왼쪽 -> 오른쪽을 탐색하면서 대소를 비교하면 된다 \n",
    "for v in range(len(value[0]))  : \n",
    "    if v == 0 : \n",
    "        value[0][v] = value[0][v]\n",
    "        continue\n",
    "    value[0][v] += value[0][v-1]\n",
    "    "
   ]
  },
  {
   "cell_type": "code",
   "execution_count": 173,
   "metadata": {},
   "outputs": [],
   "source": [
    "# 다음 줄로 이동을 하는 경우에는 이전 줄의 값을 포함하면서 아래로 이동을 한다.\n",
    "# 이떄 [왼쪽 -> 오른쪽] 으로 이동하는 경우와 [오른쪽 -> 왼쪽]으로 이동하는 경우를 모두 비교한다 \n",
    "\n",
    "for c in range(N) : \n",
    "    left_to_right, right_to_left  = value[c][:], value[c][:]\n",
    "    \n",
    "    # left -> right, right -> left 경우 모두 동시에 계산 \n",
    "    for c in range(1, N) : \n",
    "        left_to_right, right_to_left  = value[c][:], value[c][:]\n",
    "        \n",
    "        for r in range(M) :\n",
    "            rightSideR = M-r-1  \n",
    "            if r == 0 : \n",
    "                left_to_right[r] += value[c-1][r]\n",
    "                right_to_left[rightSideR] += value[c-1][rightSideR]\n",
    "            else : \n",
    "                left_to_right[r] += max(value[c-1][r], left_to_right[r-1])\n",
    "                right_to_left[rightSideR] += max(value[c-1][rightSideR], right_to_left[rightSideR+1])\n",
    "        \n",
    "    value[c] = [max(left_to_right[i], right_to_left[i]) for i in range(len(value[c]))]"
   ]
  },
  {
   "cell_type": "code",
   "execution_count": 174,
   "metadata": {},
   "outputs": [
    {
     "name": "stdout",
     "output_type": "stream",
     "text": [
      "[10, 35, 42, 50, 63]\n",
      "[172, 104, 80, 158, 145]\n",
      "[184, 160, 229, 186, 161]\n",
      "[168, 150, 172, 227, 260]\n",
      "[272, 265, 341, 352, 319]\n"
     ]
    }
   ],
   "source": [
    "for v in value : \n",
    "    print(v)"
   ]
  },
  {
   "cell_type": "code",
   "execution_count": 175,
   "metadata": {},
   "outputs": [
    {
     "data": {
      "text/plain": [
       "319"
      ]
     },
     "execution_count": 175,
     "metadata": {},
     "output_type": "execute_result"
    }
   ],
   "source": [
    "value[N-1][M-1]"
   ]
  },
  {
   "cell_type": "markdown",
   "metadata": {},
   "source": [
    "### final code"
   ]
  },
  {
   "cell_type": "code",
   "execution_count": null,
   "metadata": {},
   "outputs": [],
   "source": [
    "import sys\n",
    "N, M = map(int, input().split())\n",
    "\n",
    "value = [list(map(int, sys.stdin.readline().split())) for _ in range(N)]\n",
    "\n",
    "for v in range(1, M)  : \n",
    "    value[0][v] += value[0][v-1]\n",
    "\n",
    "for c in range(1, N) : \n",
    "    left_to_right, right_to_left  = value[c][:], value[c][:]\n",
    "    \n",
    "    for r in range(M) :\n",
    "        rightSideR = M-r-1  \n",
    "        if r == 0 : \n",
    "            left_to_right[r] += value[c-1][r]\n",
    "            right_to_left[rightSideR] += value[c-1][rightSideR]\n",
    "        else : \n",
    "            left_to_right[r] += max(value[c-1][r], left_to_right[r-1])\n",
    "            right_to_left[rightSideR] += max(value[c-1][rightSideR], right_to_left[rightSideR+1])\n",
    "    \n",
    "    for i in range(M) : \n",
    "        value[c][i] = max(left_to_right[i], right_to_left[i])\n",
    "\n",
    "print(value[N-1][M-1])"
   ]
  }
 ],
 "metadata": {
  "kernelspec": {
   "display_name": "base",
   "language": "python",
   "name": "python3"
  },
  "language_info": {
   "codemirror_mode": {
    "name": "ipython",
    "version": 3
   },
   "file_extension": ".py",
   "mimetype": "text/x-python",
   "name": "python",
   "nbconvert_exporter": "python",
   "pygments_lexer": "ipython3",
   "version": "3.9.12"
  }
 },
 "nbformat": 4,
 "nbformat_minor": 2
}
