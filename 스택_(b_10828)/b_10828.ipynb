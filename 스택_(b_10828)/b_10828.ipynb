{
 "cells": [
  {
   "attachments": {},
   "cell_type": "markdown",
   "metadata": {},
   "source": [
    "### 백준 ( 10828 ) - 스택\n",
    "- ref : https://www.acmicpc.net/problem/10828"
   ]
  },
  {
   "attachments": {},
   "cell_type": "markdown",
   "metadata": {},
   "source": [
    "### ```sys.stdin.readine()``` vs ```input()```\n",
    "\n",
    "- ```python```에서 반복문으로 여러줄 입력받는 상황에서는 반드시 ```sys.stdin.readline()```을 사용해야한다.\n",
    "- 한줄 단위 입력을 받는다. ( default type : ```String``` )\n",
    "- ```java```에서 ```sc.nextLine()```과 동일한 역할\n",
    "- ref : https://velog.io/@yeseolee/Python-%ED%8C%8C%EC%9D%B4%EC%8D%AC-%EC%9E%85%EB%A0%A5-%EC%A0%95%EB%A6%ACsys.stdin.readline"
   ]
  },
  {
   "cell_type": "code",
   "execution_count": null,
   "metadata": {},
   "outputs": [],
   "source": [
    "import sys\n",
    "\n",
    "'''\n",
    "push X  : append \n",
    "pop     : pop end of list or -1 ( if empty )\n",
    "size    : return size n \n",
    "empty   : return 1 or 0 ( = not empty ) \n",
    "top     : return n or -1 \n",
    "'''\n",
    "\n",
    "# 명령의 수를 입력 받는다\n",
    "n = int(sys.stdin.readline())\n",
    "\n",
    "# 비어 있는 stack( list )을 생성한다\n",
    "stack = []\n",
    "\n",
    "# n번의 명령을 입력받기 위해 for문을 사용한다\n",
    "for _ in range(n) : \n",
    "    \n",
    "    # input을 대신해서 sys.stdin.readline()을 이용한다\n",
    "    s = sys.stdin.readline().split()\n",
    "    \n",
    "    # push \n",
    "    if s[0] == \"push\" : \n",
    "        stack.append(s[1])\n",
    "\n",
    "    # pop \n",
    "    elif s[0] == \"pop\" : \n",
    "        print( stack.pop() if stack else -1 )\n",
    "\n",
    "    # size \n",
    "    elif s[0] == \"size\" : \n",
    "        print( len(stack) ) \n",
    "\n",
    "    # empty\n",
    "    elif s[0] == \"empty\" :\n",
    "        print( 0 if stack else 1 )\n",
    "\n",
    "    # top\n",
    "    elif s[0] == \"top\" : \n",
    "        print( stack[-1] if stack else -1 )"
   ]
  }
 ],
 "metadata": {
  "kernelspec": {
   "display_name": "Python 3.9.13 64-bit (microsoft store)",
   "language": "python",
   "name": "python3"
  },
  "language_info": {
   "codemirror_mode": {
    "name": "ipython",
    "version": 3
   },
   "file_extension": ".py",
   "mimetype": "text/x-python",
   "name": "python",
   "nbconvert_exporter": "python",
   "pygments_lexer": "ipython3",
   "version": "3.9.13"
  },
  "orig_nbformat": 4,
  "vscode": {
   "interpreter": {
    "hash": "ed1990458b689c0194eb30a78619afbc97eb157d6cc1d7eae8fd014aac9a6492"
   }
  }
 },
 "nbformat": 4,
 "nbformat_minor": 2
}
