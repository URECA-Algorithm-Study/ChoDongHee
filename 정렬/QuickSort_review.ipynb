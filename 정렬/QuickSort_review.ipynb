{
 "cells": [
  {
   "cell_type": "code",
   "execution_count": 4,
   "metadata": {},
   "outputs": [
    {
     "name": "stdout",
     "output_type": "stream",
     "text": [
      "* pl : 0 , pr : 4\n",
      "[1, 2, 3, 4, 5]\n"
     ]
    }
   ],
   "source": [
    "test_list = [5, 2, 3, 4, 1]\n",
    "\n",
    "pl = 0\n",
    "pr = len(test_list) - 1\n",
    "pivot = test_list[len(test_list)//2]\n",
    "\n",
    "while pl <= pr : \n",
    "    while test_list[pl] < pivot :\n",
    "        pl+=1\n",
    "    while test_list[pr] > pivot :\n",
    "        pr-=1\n",
    "    \n",
    "    print(\"* pl : {} , pr : {}\".format(pl, pr))\n",
    "    if pl <= pr : \n",
    "        tmp = test_list[pl]\n",
    "        test_list[pl] = test_list[pr]\n",
    "        test_list[pr] = tmp\n",
    "        break\n",
    "\n",
    "print(test_list)\n",
    "    "
   ]
  }
 ],
 "metadata": {
  "kernelspec": {
   "display_name": "base",
   "language": "python",
   "name": "python3"
  },
  "language_info": {
   "codemirror_mode": {
    "name": "ipython",
    "version": 3
   },
   "file_extension": ".py",
   "mimetype": "text/x-python",
   "name": "python",
   "nbconvert_exporter": "python",
   "pygments_lexer": "ipython3",
   "version": "3.9.12"
  }
 },
 "nbformat": 4,
 "nbformat_minor": 2
}
