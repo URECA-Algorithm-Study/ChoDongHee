{
 "cells": [
  {
   "cell_type": "markdown",
   "metadata": {},
   "source": [
    "### 백준 ( 2839 ) - 설탕 배달 \n",
    "- ref : https://www.acmicpc.net/problem/2839"
   ]
  },
  {
   "cell_type": "code",
   "execution_count": 21,
   "metadata": {},
   "outputs": [
    {
     "name": "stdout",
     "output_type": "stream",
     "text": [
      "0 3\n",
      "3\n"
     ]
    }
   ],
   "source": [
    "n = int(input())\n",
    "\n",
    "'''\n",
    "* 5의 최대 몫 + 3의 나머지가 -1이 아닌 경우\n",
    "\n",
    "* ex) 11 =>  5의 몫 : 1, 3의 몫 : 2\n",
    "* ex) 9 =>  5의 몫 : 0, 3의 몫 : 3\n",
    "\n",
    "* 5로 무작정 나누고 나머지를 3에게 넘겨주면 정확하게 떨어지지 않을 수 있다.\n",
    "* 만약 5, 3을 이용해서 정의할 수 없는 숫자는 -1을 반환한다\n",
    "'''\n",
    "\n",
    "div5 = n//5\n",
    "saveMinus = 0\n",
    "while n >= 5 and (n%5 + saveMinus)%3 != 0 : \n",
    "    n -= 5    \n",
    "    saveMinus += 5\n",
    "div5 = n//5\n",
    "div3 = ((n%5 + saveMinus)//3 if (n%5 + saveMinus)%3 == 0 else -1)\n",
    "\n",
    "print((div5 + div3) if div3 != -1 else -1)"
   ]
  }
 ],
 "metadata": {
  "kernelspec": {
   "display_name": "base",
   "language": "python",
   "name": "python3"
  },
  "language_info": {
   "codemirror_mode": {
    "name": "ipython",
    "version": 3
   },
   "file_extension": ".py",
   "mimetype": "text/x-python",
   "name": "python",
   "nbconvert_exporter": "python",
   "pygments_lexer": "ipython3",
   "version": "3.9.12"
  }
 },
 "nbformat": 4,
 "nbformat_minor": 2
}
