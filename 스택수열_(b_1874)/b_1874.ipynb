{
 "cells": [
  {
   "attachments": {},
   "cell_type": "markdown",
   "metadata": {},
   "source": [
    "### 백준 ( 1874 ) - 스택 수열 \n",
    "- ref : https://www.acmicpc.net/problem/1874"
   ]
  },
  {
   "attachments": {},
   "cell_type": "markdown",
   "metadata": {},
   "source": [
    "－ 실패"
   ]
  },
  {
   "cell_type": "code",
   "execution_count": null,
   "metadata": {},
   "outputs": [],
   "source": [
    "import sys\n",
    "n = int(sys.stdin.readline())\n",
    "\n",
    "stackList = [] \n",
    "for _ in range(n) : \n",
    "    stack = int(sys.stdin.readline())\n",
    "    stackList.append(stack)\n",
    "\n",
    "stackList.reverse()\n",
    "stackPushPop = []\n",
    "for i in range(1, n+1) : \n",
    "    stackPushPop.append(i)\n",
    "    print(\"+\")\n",
    "    while stackList and stackList[-1] in stackPushPop : \n",
    "        stackPushPop.pop()\n",
    "        stackList.pop()\n",
    "        print(\"-\")"
   ]
  },
  {
   "cell_type": "code",
   "execution_count": 16,
   "metadata": {},
   "outputs": [
    {
     "name": "stdout",
     "output_type": "stream",
     "text": [
      "+\n",
      "-\n",
      "+\n",
      "-\n",
      "+\n",
      "+\n",
      "+\n",
      "-\n",
      "-\n"
     ]
    }
   ],
   "source": [
    "n = int(input())\n",
    "\n",
    "stackList, record = [], []\n",
    "indexNum = 1\n",
    "available = True\n",
    "\n",
    "for _ in range(n) : \n",
    "    stackNum = int(input())\n",
    "\n",
    "    while indexNum <= stackNum :\n",
    "        stackList.append(indexNum)\n",
    "        record.append(\"+\")\n",
    "        indexNum += 1\n",
    "    \n",
    "    if stackNum == stackList[-1] : \n",
    "        stackList.pop()\n",
    "        record.append(\"-\")\n",
    "    \n",
    "    else : \n",
    "        available = False\n",
    "        break\n",
    "\n",
    "if not available : \n",
    "    print(\"NO\")\n",
    "else : \n",
    "    for r in record : \n",
    "        print(r)"
   ]
  }
 ],
 "metadata": {
  "kernelspec": {
   "display_name": "Python 3.9.13 64-bit (microsoft store)",
   "language": "python",
   "name": "python3"
  },
  "language_info": {
   "codemirror_mode": {
    "name": "ipython",
    "version": 3
   },
   "file_extension": ".py",
   "mimetype": "text/x-python",
   "name": "python",
   "nbconvert_exporter": "python",
   "pygments_lexer": "ipython3",
   "version": "3.9.13"
  },
  "orig_nbformat": 4,
  "vscode": {
   "interpreter": {
    "hash": "ed1990458b689c0194eb30a78619afbc97eb157d6cc1d7eae8fd014aac9a6492"
   }
  }
 },
 "nbformat": 4,
 "nbformat_minor": 2
}
