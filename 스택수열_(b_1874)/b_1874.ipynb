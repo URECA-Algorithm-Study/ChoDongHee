{
 "cells": [
  {
   "attachments": {},
   "cell_type": "markdown",
   "metadata": {},
   "source": [
    "### 백준 ( 1874 ) - 스택 수열 \n",
    "- ref : https://www.acmicpc.net/problem/1874"
   ]
  },
  {
   "attachments": {},
   "cell_type": "markdown",
   "metadata": {},
   "source": [
    "- 실패 ( 시간 초과 )"
   ]
  },
  {
   "cell_type": "code",
   "execution_count": null,
   "metadata": {},
   "outputs": [],
   "source": [
    "import sys\n",
    "n = int(sys.stdin.readline())\n",
    "\n",
    "stackList = [] \n",
    "# FOR - 8번 진행 \n",
    "for _ in range(n) : \n",
    "    stack = int(sys.stdin.readline())\n",
    "    stackList.append(stack)\n",
    "\n",
    "stackList.reverse()\n",
    "stackPushPop = []\n",
    "\n",
    "# FOR - 8번 진행 \n",
    "for i in range(1, n+1) : \n",
    "    stackPushPop.append(i)\n",
    "    print(\"+\")\n",
    "    # WHILE \n",
    "    while stackList and stackList[-1] in stackPushPop : \n",
    "        stackPushPop.pop()\n",
    "        stackList.pop()\n",
    "        print(\"-\")"
   ]
  },
  {
   "cell_type": "markdown",
   "metadata": {},
   "source": [
    "- 성공\n",
    "- feedback \n",
    "    - record는 ```list```로 작성하지 말고 String을 계속 +연산을 해서 출력 해볼 것"
   ]
  },
  {
   "cell_type": "code",
   "execution_count": 2,
   "metadata": {},
   "outputs": [
    {
     "name": "stdout",
     "output_type": "stream",
     "text": [
      "+\n",
      "+\n",
      "-\n",
      "-\n"
     ]
    }
   ],
   "source": [
    "n = int(input())\n",
    "\n",
    "'''\n",
    "* stackList : 오름차순 정렬의 스택들을 저장할 리스트\n",
    "* record : push, pop이 이루어질 때 +, -를 기록할 리스트\n",
    "* indexNum : 입력 받은 stackNum와 비교 연산을 하기 위한 변수\n",
    "* available : stack의 구조상 문제가 없는지 확인하기 위한 변수 \n",
    "'''\n",
    "stackList, record = [], []\n",
    "indexNum = 1\n",
    "available = True\n",
    "\n",
    "'''\n",
    "* n 번만큼 반복문 실행 \n",
    "'''\n",
    "\n",
    "for _ in range(n) : \n",
    "    '''\n",
    "    * 입력 받은 스택 정보를 stackNum ( Integer )에 저장 \n",
    "    '''\n",
    "    stackNum = int(input())\n",
    "\n",
    "    '''\n",
    "    * 현재 indexNum과 입력 받은 stackNum을 비교 연산하여 while 반복문 실행\n",
    "    * indexNum을 이용해 stackList에 추가되야 하는 값들을 저장 => stackList = [ 1, 2, 3, 4, ... ]\n",
    "    * 반복문을 1회 실행할 때 마다 record에 +를 추가해준다\n",
    "    * 반복문을 실행할 때 마다 indexNum += 1 실행 \n",
    "    '''\n",
    "    while indexNum <= stackNum :\n",
    "        stackList.append(indexNum)\n",
    "        record.append(\"+\")\n",
    "        indexNum += 1\n",
    "    \n",
    "    '''\n",
    "    * if 입력 받은 stackNum과 현재 stackList의 마지막 인덱스 값이 같을 경우 \n",
    "    * stackNum이 pop하고자 하는 숫자를 찾았기 때문에 stackList에서 pop을 진행 \n",
    "    * record에 -를 추가해준다 \n",
    "\n",
    "    * else stackNum != stackList 이면 stack을 이룰 수 없는 구조이다.\n",
    "    * available변수를 False로 지정하고 break로 반복문을 종료한다 \n",
    "    '''\n",
    "    if stackNum == stackList[-1] : \n",
    "        stackList.pop()\n",
    "        record.append(\"-\")\n",
    "    \n",
    "    else : \n",
    "        available = False\n",
    "        break\n",
    "\n",
    "'''\n",
    "* if available이 False일 경우 \"NO\"를 출력한다\n",
    "* else available이 True일 경우 push pop을 기록한 record들을 출력한다\n",
    "'''\n",
    "if not available : \n",
    "    print(\"NO\")\n",
    "else : \n",
    "    for r in record : \n",
    "        print(r)"
   ]
  }
 ],
 "metadata": {
  "kernelspec": {
   "display_name": "Python 3.9.13 64-bit (microsoft store)",
   "language": "python",
   "name": "python3"
  },
  "language_info": {
   "codemirror_mode": {
    "name": "ipython",
    "version": 3
   },
   "file_extension": ".py",
   "mimetype": "text/x-python",
   "name": "python",
   "nbconvert_exporter": "python",
   "pygments_lexer": "ipython3",
   "version": "3.9.12"
  },
  "orig_nbformat": 4,
  "vscode": {
   "interpreter": {
    "hash": "ed1990458b689c0194eb30a78619afbc97eb157d6cc1d7eae8fd014aac9a6492"
   }
  }
 },
 "nbformat": 4,
 "nbformat_minor": 2
}
