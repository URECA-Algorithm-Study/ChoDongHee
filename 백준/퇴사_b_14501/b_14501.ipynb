{
 "cells": [
  {
   "cell_type": "markdown",
   "metadata": {},
   "source": [
    "### 백준 ( 14501 ) - 퇴사\n",
    "- ref : https://www.acmicpc.net/problem/14501"
   ]
  },
  {
   "cell_type": "code",
   "execution_count": 14,
   "metadata": {},
   "outputs": [
    {
     "name": "stdout",
     "output_type": "stream",
     "text": [
      "list_TP : [(3, 10), (5, 20), (1, 10), (1, 20), (2, 15), (4, 40), (2, 200)]\n",
      "list_DatePerValue : [3.3333333333333335, 4.0, 10.0, 20.0, 7.5, 10.0, 100.0]\n",
      "==== i : 0 ====\n",
      "t : 3, p : 10\n",
      "==== i : 1 ====\n",
      "t : 5, p : 20\n",
      "==== i : 2 ====\n",
      "t : 1, p : 10\n",
      "==== i : 3 ====\n",
      "t : 1, p : 20\n",
      "==== i : 4 ====\n",
      "t : 2, p : 15\n",
      "==== i : 5 ====\n",
      "t : 4, p : 40\n",
      "==== i : 6 ====\n",
      "t : 2, p : 200\n",
      "cnt_date : [0, 1, 2, 2]\n",
      "cnt_val : [0, 20, 15, 200]\n",
      "235\n"
     ]
    }
   ],
   "source": [
    "import sys\n",
    "N = int(input())\n",
    "# TP = ( 일수, 금액 )\n",
    "list_TP = []\n",
    "# DatePerValue => 스케쥴 하루당 값어치 \n",
    "list_DatePerValue = []\n",
    "# 진행하고 있는 스케쥴의 하루 값어치 \n",
    "now_val = 0\n",
    "# 일수를 계산 \n",
    "now_date = 0\n",
    "# 일을 했던 날짜 인덱스를 기록 \n",
    "cnt_date = [0]\n",
    "cnt_val = [0]\n",
    "\n",
    "for _ in range(N) : \n",
    "    # date, value = map(int, sys.stdin.readline().split())\n",
    "    date, value = map(int, input().split())\n",
    "    list_TP.append((date, value))\n",
    "    list_DatePerValue.append(value/date)\n",
    "\n",
    "print(\"list_TP : {}\".format(list_TP))\n",
    "print(\"list_DatePerValue : {}\".format(list_DatePerValue))\n",
    "\n",
    "for i, (t, p) in enumerate(list_TP) : \n",
    "\n",
    "    print(\"==== i : {} ====\".format(i))\n",
    "    print(\"t : {}, p : {}\".format(t, p))\n",
    "    # 일수 초과를 검사 -> 일수를 초과하는 스케쥴은 PASS\n",
    "    if sum(cnt_date) + t > N : \n",
    "        continue\n",
    "    \n",
    "    # 현재 스케줄이 없거나, 현재 진행하던 스케줄보다 \n",
    "    elif now_date == 0 :\n",
    "       # 갱신, 일정 추가 \n",
    "       now_date, now_val = t, list_DatePerValue[i]\n",
    "       cnt_date.append(t)\n",
    "       cnt_val.append(p)\n",
    "\n",
    "    elif t <= now_date and now_val < list_DatePerValue[i]: \n",
    "        # 갱신, 기존 일정은 삭제\n",
    "        now_date, now_val = t, list_DatePerValue[i]\n",
    "        cnt_date.pop()\n",
    "        cnt_val.pop()\n",
    "    # 하루가 지나면 남은 스케쥴의 일정도 1만큼 줄어든다 \n",
    "    now_date -=1\n",
    "\n",
    "print(\"cnt_date : {}\".format(cnt_date))\n",
    "print(\"cnt_val : {}\".format(cnt_val))\n",
    "\n",
    "print(sum(cnt_val))"
   ]
  },
  {
   "cell_type": "markdown",
   "metadata": {},
   "source": [
    "### Top-Down"
   ]
  },
  {
   "cell_type": "code",
   "execution_count": 17,
   "metadata": {},
   "outputs": [
    {
     "name": "stdout",
     "output_type": "stream",
     "text": [
      "* li : [[1, 10], [1, 20], [1, 30], [1, 40]] \n",
      "100\n"
     ]
    }
   ],
   "source": [
    "N = int(input())\n",
    "\n",
    "# date, val\n",
    "li = [list(map(int, input().split())) for _ in range(N)]\n",
    "dp = [0 for _ in range(N+1)]\n",
    "\n",
    "print(\"* li : {} \".format(li))\n",
    "\n",
    "for i in range(N-1, -1, -1) : \n",
    "    # i일에 상담을 하는 것이 퇴사일을 넘기면 상담을 하지 않는다.\n",
    "    if i + li[i][0] > N : \n",
    "        dp[i] = dp[i+1]\n",
    "    else : \n",
    "        # i일에 상담을 하는 것과 상담을 안하는 것 중 큰 것을 선택 \n",
    "        dp[i] = max(dp[i+1], li[i][1] + dp[i+li[i][0]])\n",
    "print(dp[0])"
   ]
  },
  {
   "cell_type": "markdown",
   "metadata": {},
   "source": [
    "### Bottom-up"
   ]
  },
  {
   "cell_type": "code",
   "execution_count": 18,
   "metadata": {},
   "outputs": [
    {
     "name": "stdout",
     "output_type": "stream",
     "text": [
      "100\n"
     ]
    }
   ],
   "source": [
    "N = int(input())\n",
    "\n",
    "# date, val\n",
    "li = [list(map(int, input().split())) for _ in range(N)]\n",
    "\n",
    "# 수익 리스트 \n",
    "dp = [0 for _ in range(N+1)]\n",
    "\n",
    "# 총 일수 \n",
    "for i in range(N) : \n",
    "    # 오늘 날짜 + 스케쥴 날부터 종료 까지 \n",
    "    for j in range(i + li[i][0], N+1) : \n",
    "\n",
    "        if dp[j] < dp[i] + li[i][1] : \n",
    "            dp[j] = dp[i] + li[i][1]\n",
    "\n",
    "print(dp[-1])"
   ]
  }
 ],
 "metadata": {
  "kernelspec": {
   "display_name": "base",
   "language": "python",
   "name": "python3"
  },
  "language_info": {
   "codemirror_mode": {
    "name": "ipython",
    "version": 3
   },
   "file_extension": ".py",
   "mimetype": "text/x-python",
   "name": "python",
   "nbconvert_exporter": "python",
   "pygments_lexer": "ipython3",
   "version": "3.9.12"
  }
 },
 "nbformat": 4,
 "nbformat_minor": 2
}
