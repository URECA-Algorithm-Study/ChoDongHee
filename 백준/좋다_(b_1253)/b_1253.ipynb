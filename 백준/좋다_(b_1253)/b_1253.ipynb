{
 "cells": [
  {
   "cell_type": "markdown",
   "metadata": {},
   "source": [
    "### 백준 ( 1253 ) - 좋다\n",
    "- ref : https://www.acmicpc.net/problem/1253"
   ]
  },
  {
   "cell_type": "code",
   "execution_count": 17,
   "metadata": {},
   "outputs": [
    {
     "name": "stdout",
     "output_type": "stream",
     "text": [
      "8\n"
     ]
    }
   ],
   "source": [
    "import sys\n",
    "# N = int(input())\n",
    "# ls = sorted(list(map(int, sys.stdin.readline().split())))\n",
    "N = 11\n",
    "ls = [0, 1, 2, 3, 4, 5, 6, 7, 8, 9, 10]\n",
    "\n",
    "# N = 6\n",
    "# ls = [1, 2, 3, 6, 7, 9]\n",
    "\n",
    "cnt = 0\n",
    "for i in range(N-1, 1, -1) : \n",
    "    num = ls[i]\n",
    "    low, high = 0, i-1\n",
    "    while low<high : \n",
    "        sum_val = ls[low]+ls[high]\n",
    "        if sum_val == num : \n",
    "            cnt += 1\n",
    "            break\n",
    "        elif num < sum_val : \n",
    "            high = high-1\n",
    "        else : \n",
    "            low = low+1\n",
    "print(cnt)"
   ]
  },
  {
   "cell_type": "code",
   "execution_count": 23,
   "metadata": {},
   "outputs": [
    {
     "name": "stdout",
     "output_type": "stream",
     "text": [
      ">>> i : 0\n",
      ">>> i : 1\n",
      "end!!! => goal : 1, start : 0, end= : 1\n",
      ">>> i : 2\n",
      "end!!! => goal : 2, start : 0, end= : 2\n",
      ">>> i : 3\n",
      "end!!! => goal : 3, start : 0, end= : 3\n",
      "goal!!! => goal : 3, start : 1, end= : 2\n",
      ">>> i : 4\n",
      "end!!! => goal : 4, start : 0, end= : 4\n",
      "goal!!! => goal : 4, start : 1, end= : 3\n",
      ">>> i : 5\n",
      "end!!! => goal : 5, start : 0, end= : 5\n",
      "goal!!! => goal : 5, start : 1, end= : 4\n",
      ">>> i : 6\n",
      "end!!! => goal : 6, start : 0, end= : 6\n",
      "goal!!! => goal : 6, start : 1, end= : 5\n",
      ">>> i : 7\n",
      "end!!! => goal : 7, start : 0, end= : 7\n",
      "goal!!! => goal : 7, start : 1, end= : 6\n",
      ">>> i : 8\n",
      "end!!! => goal : 8, start : 0, end= : 8\n",
      "goal!!! => goal : 8, start : 1, end= : 7\n",
      ">>> i : 9\n",
      "end!!! => goal : 9, start : 0, end= : 9\n",
      "goal!!! => goal : 9, start : 1, end= : 8\n",
      ">>> i : 10\n",
      "end!!! => goal : 10, start : 0, end= : 10\n",
      "goal!!! => goal : 10, start : 1, end= : 9\n",
      "8\n"
     ]
    },
    {
     "ename": "",
     "evalue": "",
     "output_type": "error",
     "traceback": [
      "\u001b[1;31mThe Kernel crashed while executing code in the current cell or a previous cell. \n",
      "\u001b[1;31mPlease review the code in the cell(s) to identify a possible cause of the failure. \n",
      "\u001b[1;31mClick <a href='https://aka.ms/vscodeJupyterKernelCrash'>here</a> for more info. \n",
      "\u001b[1;31mView Jupyter <a href='command:jupyter.viewOutput'>log</a> for further details."
     ]
    }
   ],
   "source": [
    "n = 11\n",
    "arr = [0, 1, 2, 3, 4, 5, 6, 7, 8, 9, 10]\n",
    "\n",
    "cnt = 0\n",
    "for i in range(n):\n",
    "    print(f\">>> i : {i}\")\n",
    "    goal = arr[i]\n",
    "    start = 0\n",
    "    end = len(arr)-1\n",
    "    while start < end:\n",
    "        if arr[start] + arr[end] == goal:\n",
    "            if start == i:\n",
    "                print(f\"start!!! => goal : {goal}, start : {arr[start]}, end= : {arr[end]}\")\n",
    "                start += 1\n",
    "            elif end == i:\n",
    "                print(f\"end!!! => goal : {goal}, start : {arr[start]}, end= : {arr[end]}\")\n",
    "                end -= 1\n",
    "            else:\n",
    "                print(f\"goal!!! => goal : {goal}, start : {arr[start]}, end= : {arr[end]}\")\n",
    "                cnt += 1\n",
    "                break\n",
    "        elif arr[start] + arr[end] > goal:\n",
    "            end -= 1\n",
    "        elif arr[start] + arr[end] < goal:\n",
    "            start += 1\n",
    "print(cnt)\n"
   ]
  },
  {
   "cell_type": "code",
   "execution_count": null,
   "metadata": {},
   "outputs": [],
   "source": [
    "import sys\n",
    "input = sys.stdin.readline\n",
    "\n",
    "n = int(input())\n",
    "arr = list(map(int, input().split()))\n",
    "arr.sort()\n",
    "\n",
    "cnt = 0\n",
    "for i in range(n):\n",
    "    goal = arr[i]\n",
    "    start = 0\n",
    "    end = len(arr)-1\n",
    "    while start < end:\n",
    "        if arr[start] + arr[end] == goal:\n",
    "            if start == i:\n",
    "                start += 1\n",
    "            elif end == i:\n",
    "                end -= 1\n",
    "            else:\n",
    "                cnt += 1\n",
    "                break\n",
    "        elif arr[start] + arr[end] > goal:\n",
    "            end -= 1\n",
    "        elif arr[start] + arr[end] < goal:\n",
    "            start += 1\n",
    "\n",
    "print(cnt)"
   ]
  }
 ],
 "metadata": {
  "kernelspec": {
   "display_name": "base",
   "language": "python",
   "name": "python3"
  },
  "language_info": {
   "codemirror_mode": {
    "name": "ipython",
    "version": 3
   },
   "file_extension": ".py",
   "mimetype": "text/x-python",
   "name": "python",
   "nbconvert_exporter": "python",
   "pygments_lexer": "ipython3",
   "version": "3.9.12"
  }
 },
 "nbformat": 4,
 "nbformat_minor": 2
}
