{
 "cells": [
  {
   "cell_type": "markdown",
   "metadata": {},
   "source": [
    "### 백준 ( 2805 ) - 나무 자르기\n",
    "- ref : https://www.acmicpc.net/problem/2805"
   ]
  },
  {
   "cell_type": "code",
   "execution_count": 16,
   "metadata": {},
   "outputs": [
    {
     "name": "stdout",
     "output_type": "stream",
     "text": [
      "sum tree : 22, ave : 10\n",
      "sum tree : 7, ave : 15\n",
      "15\n"
     ]
    }
   ],
   "source": [
    "import sys\n",
    "# N, M = map(int, sys.stdin.readline().split())\n",
    "# ls_tree = sorted(list(map(int, sys.stdin.readline().split())))\n",
    "\n",
    "N, M = 4, 7\n",
    "ls_tree = [10, 15, 17, 20]\n",
    "\n",
    "# N, M = 5, 20\n",
    "# ls_tree = [4, 26, 40, 42, 46]\n",
    "\n",
    "low, high = 0, ls_tree[-1]\n",
    "answer = 0\n",
    "\n",
    "while low<=high : \n",
    "    ave = (low+high)//2\n",
    "    sum_tree = sum([abs(ave - max(ave, t)) for t in ls_tree])\n",
    "    print(f'sum tree : {sum_tree}, ave : {ave}')\n",
    "    if sum_tree <= M : \n",
    "        answer = ave\n",
    "        high = ave-1\n",
    "        if sum_tree == M : \n",
    "            break\n",
    "    else : \n",
    "        low = ave+1\n",
    "print(answer)\n",
    "    "
   ]
  }
 ],
 "metadata": {
  "kernelspec": {
   "display_name": "base",
   "language": "python",
   "name": "python3"
  },
  "language_info": {
   "codemirror_mode": {
    "name": "ipython",
    "version": 3
   },
   "file_extension": ".py",
   "mimetype": "text/x-python",
   "name": "python",
   "nbconvert_exporter": "python",
   "pygments_lexer": "ipython3",
   "version": "3.9.12"
  }
 },
 "nbformat": 4,
 "nbformat_minor": 2
}
