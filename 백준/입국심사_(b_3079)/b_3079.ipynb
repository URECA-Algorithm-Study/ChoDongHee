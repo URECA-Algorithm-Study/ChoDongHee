{
 "cells": [
  {
   "cell_type": "markdown",
   "metadata": {},
   "source": [
    "### 백준 ( 3079 ) - 입국심사 \n",
    "- ref : https://www.acmicpc.net/problem/3079"
   ]
  },
  {
   "cell_type": "code",
   "execution_count": null,
   "metadata": {},
   "outputs": [],
   "source": [
    "# M : 상근이와 친구들 \n",
    "# N : 입국심사대 \n",
    "# k번 심사대에 앉아 있는 심사관의 한 명당 심상 시간 => T ( 배열의 특징 )\n",
    "# 처음에는 모든 심사대가 비어있다 \n",
    "# (최소 시간 + 최대시간) / 2 "
   ]
  },
  {
   "cell_type": "code",
   "execution_count": 20,
   "metadata": {},
   "outputs": [
    {
     "name": "stdout",
     "output_type": "stream",
     "text": [
      "28\n"
     ]
    }
   ],
   "source": [
    "import sys\n",
    "desk, person = map(int, sys.stdin.readline().split())\n",
    "desk_list = sorted([int(sys.stdin.readline()) for _ in range(desk)])\n",
    "\n",
    "left = min(desk_list)\n",
    "right = max(desk_list)*person\n",
    "rs = right\n",
    "\n",
    "while (left <= right) : \n",
    "    time = (left+right)//2\n",
    "    total = sum([time//d for d in desk_list])\n",
    "\n",
    "    if total >= person : \n",
    "        right = time-1\n",
    "        rs = min(rs, time)\n",
    "    else : \n",
    "        left = time+1\n",
    "print(rs)"
   ]
  },
  {
   "cell_type": "markdown",
   "metadata": {},
   "source": []
  }
 ],
 "metadata": {
  "kernelspec": {
   "display_name": "base",
   "language": "python",
   "name": "python3"
  },
  "language_info": {
   "codemirror_mode": {
    "name": "ipython",
    "version": 3
   },
   "file_extension": ".py",
   "mimetype": "text/x-python",
   "name": "python",
   "nbconvert_exporter": "python",
   "pygments_lexer": "ipython3",
   "version": "3.9.12"
  }
 },
 "nbformat": 4,
 "nbformat_minor": 2
}
