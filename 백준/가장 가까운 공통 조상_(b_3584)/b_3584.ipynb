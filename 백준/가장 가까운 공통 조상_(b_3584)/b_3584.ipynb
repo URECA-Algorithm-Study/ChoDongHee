{
 "cells": [
  {
   "cell_type": "markdown",
   "metadata": {},
   "source": [
    "### 백준 ( 3584 ) - 가장 가까운 공통 조상 \n",
    "- ref : https://www.acmicpc.net/problem/3584"
   ]
  },
  {
   "cell_type": "code",
   "execution_count": null,
   "metadata": {},
   "outputs": [],
   "source": [
    "\n",
    "# N번 입력 받기 \n",
    "N = int(input())\n",
    "\n",
    "for _ in range(N) :         \n",
    "    T = int(input())\n",
    "    tree = [0 for _ in range(T+1)]      # tree = [0, 0, 0, 0, ...] 0 ~ T자리 만큼 지정\n",
    "    for t in range(T-1) :               # T-1번 값을 입력, 마지막 T번쨰 입력은 문제!\n",
    "        a, b = map(int, input().split())\n",
    "        tree[b] = a                     # ex) tree[3] = 2, 3번째 값에 부모 노드의 값 저장\n",
    "    \n",
    "    a, b = map(int, input().split())    # 찾고 싶은 a, b를 입력 받는다 \n",
    "\n",
    "    a_pNodes = [a]                      # a노드부터 부모 노드까지 저장하기 위한 배열       \n",
    "    while tree[a] != 0 :                # tree[a] 번째 부모 노드가 0일 때까지 탐색 \n",
    "        a_pNodes.append(tree[a])        # a_pNodes.add(tree.get(a)) 부모노드 값을 배열에 저장\n",
    "        a = tree[a]                     # 현재 노드를 부모 노드로 갱신 \n",
    "    \n",
    "    b_pNodes = [b]\n",
    "    while tree[b] != 0 : \n",
    "        b_pNodes.append(tree[b])\n",
    "        b = tree[b]\n",
    "\n",
    "    # a_pNodes = [3, 2],  b_pNodes = [5, 1, 3, 2]\n",
    "    # 길이가 더 긴쪽이 있다면 짧은 쪽에 배열의 길이를 맞춰준다 \n",
    "    # b_pNodes [5, 1, 3, 2]   =>   [3, 2]\n",
    "    if len(a_pNodes)!=len(b_pNodes) :      \n",
    "        if len(a_pNodes) > len(b_pNodes) : \n",
    "            a_pNodes = a_pNodes[len(a_pNodes) - len(b_pNodes):]\n",
    "        else :\n",
    "            b_pNodes = b_pNodes[len(b_pNodes) - len(a_pNodes):]\n",
    "\n",
    "    for a_idx, b_idx in zip(a_pNodes, b_pNodes) : \n",
    "        if a_idx == b_idx : \n",
    "            print(a_idx)   \n",
    "            break     "
   ]
  }
 ],
 "metadata": {
  "kernelspec": {
   "display_name": "Python 3",
   "language": "python",
   "name": "python3"
  },
  "language_info": {
   "codemirror_mode": {
    "name": "ipython",
    "version": 3
   },
   "file_extension": ".py",
   "mimetype": "text/x-python",
   "name": "python",
   "nbconvert_exporter": "python",
   "pygments_lexer": "ipython3",
   "version": "3.9.13"
  },
  "orig_nbformat": 4,
  "vscode": {
   "interpreter": {
    "hash": "ed1990458b689c0194eb30a78619afbc97eb157d6cc1d7eae8fd014aac9a6492"
   }
  }
 },
 "nbformat": 4,
 "nbformat_minor": 2
}
