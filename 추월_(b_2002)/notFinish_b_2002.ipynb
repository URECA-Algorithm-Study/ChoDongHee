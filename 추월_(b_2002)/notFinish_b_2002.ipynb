{
 "cells": [
  {
   "cell_type": "markdown",
   "metadata": {},
   "source": [
    "### 백준 ( 2002 ) - 추월\n",
    "- ref : https://www.acmicpc.net/problem/2002"
   ]
  },
  {
   "cell_type": "markdown",
   "metadata": {},
   "source": [
    "ZG431SN\n",
    "\n",
    "ZG5080K\n",
    "\n",
    "ST123D\n",
    "\n",
    "ZG206A\n",
    "\n",
    "ZG206A\n",
    "\n",
    "ZG431SN\n",
    "\n",
    "ZG5080K\n",
    "\n",
    "ST123D\n",
    "\n",
    ">> 1"
   ]
  }
 ],
 "metadata": {
  "language_info": {
   "name": "python"
  }
 },
 "nbformat": 4,
 "nbformat_minor": 2
}
