{
 "cells": [
  {
   "cell_type": "code",
   "execution_count": 11,
   "metadata": {},
   "outputs": [],
   "source": [
    "def solution(s) :\n",
    "    result = [-1]\n",
    "    for k in range(1, len(s)) : \n",
    "        print(f'\\n---- s[{k}] : {s[k]} ----')\n",
    "        for chk in range(k-1, -1, -1) : \n",
    "            print(f'>> s[{chk}] = {s[chk]}')\n",
    "            if s[chk] == s[k] : \n",
    "                result.append(k-chk)\n",
    "                break\n",
    "            if chk == 0 : \n",
    "                result.append(-1)\n",
    "    return result"
   ]
  },
  {
   "cell_type": "code",
   "execution_count": 12,
   "metadata": {},
   "outputs": [
    {
     "name": "stdout",
     "output_type": "stream",
     "text": [
      "\n",
      "---- s[1] : a ----\n",
      ">> s[0] = b\n",
      "\n",
      "---- s[2] : n ----\n",
      ">> s[1] = a\n",
      ">> s[0] = b\n",
      "\n",
      "---- s[3] : a ----\n",
      ">> s[2] = n\n",
      ">> s[1] = a\n",
      "\n",
      "---- s[4] : n ----\n",
      ">> s[3] = a\n",
      ">> s[2] = n\n",
      "\n",
      "---- s[5] : a ----\n",
      ">> s[4] = n\n",
      ">> s[3] = a\n",
      "[-1, -1, -1, 2, 2, 2]\n"
     ]
    }
   ],
   "source": [
    "s = 'banana'\n",
    "print(solution(s))"
   ]
  },
  {
   "cell_type": "code",
   "execution_count": 13,
   "metadata": {},
   "outputs": [],
   "source": [
    "def solution(s):\n",
    "    answer = []\n",
    "    s = s[::-1]\n",
    "    for idx in range(len(s)-1) :\n",
    "        if s[idx] in s[idx+1:] :\n",
    "            answer.append(s[idx+1:].index(s[idx])+1)\n",
    "        else :\n",
    "            answer.append(-1)\n",
    "    answer = [-1]+answer[::-1]\n",
    "    return answer"
   ]
  },
  {
   "cell_type": "code",
   "execution_count": 14,
   "metadata": {},
   "outputs": [
    {
     "name": "stdout",
     "output_type": "stream",
     "text": [
      "[-1, -1, -1, 2, 2, 2]\n"
     ]
    }
   ],
   "source": [
    "s = 'banana'\n",
    "print(solution(s))"
   ]
  },
  {
   "cell_type": "code",
   "execution_count": null,
   "metadata": {},
   "outputs": [],
   "source": []
  }
 ],
 "metadata": {
  "kernelspec": {
   "display_name": "base",
   "language": "python",
   "name": "python3"
  },
  "language_info": {
   "codemirror_mode": {
    "name": "ipython",
    "version": 3
   },
   "file_extension": ".py",
   "mimetype": "text/x-python",
   "name": "python",
   "nbconvert_exporter": "python",
   "pygments_lexer": "ipython3",
   "version": "3.9.12"
  }
 },
 "nbformat": 4,
 "nbformat_minor": 2
}
