{
 "cells": [
  {
   "cell_type": "code",
   "execution_count": null,
   "metadata": {},
   "outputs": [],
   "source": [
    "def solution(s):\n",
    "    k=0\n",
    "    while k<len(s) : \n",
    "        keyword = k\n",
    "        tmp, cnt = s[k], {}\n",
    "        for l in range(k+1, len(s)) : \n",
    "            tmp+=s[l]\n",
    "            k+=1\n",
    "\n",
    "            if s[l] not in cnt.keys() : \n",
    "                cnt[s[l]] = 1\n",
    "            else : \n",
    "                cnt[s[l]] += 1\n",
    "    return 0   "
   ]
  }
 ],
 "metadata": {
  "language_info": {
   "name": "python"
  }
 },
 "nbformat": 4,
 "nbformat_minor": 2
}
