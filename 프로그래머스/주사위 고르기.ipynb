{
 "cells": [
  {
   "cell_type": "markdown",
   "metadata": {},
   "source": [
    "### 주사위 고르기"
   ]
  },
  {
   "cell_type": "code",
   "execution_count": null,
   "metadata": {},
   "outputs": [],
   "source": []
  },
  {
   "cell_type": "code",
   "execution_count": 4,
   "metadata": {},
   "outputs": [
    {
     "name": "stdout",
     "output_type": "stream",
     "text": [
      "[[1, 2, 3, 4, 5, 6]]\n",
      "[1, 2, 3, 4, 5, 6]\n",
      "[[2, 2, 4, 4, 6, 6]]\n",
      "[2, 2, 4, 4, 6, 6]\n",
      "[2]\n"
     ]
    }
   ],
   "source": [
    "from itertools import combinations, product\n",
    "\n",
    "def solution(dice):\n",
    "    n = len(dice)\n",
    "    A, result = [], []\n",
    "    cases = list(combinations(range(n), n//2)) # 뽑을 수 있는 경우의 수 (인덱스)\n",
    "    \n",
    "    for case in cases:\n",
    "        dices = [dice[c] for c in case] # 인덱스에 해당하는 실제 주사위\n",
    "        nums = sorted([sum(i) for i in product(*dices)]) # 뽑은 주사위의 합의 경우의 수\n",
    "        print(dices)\n",
    "        print(nums)\n",
    "        A.append(nums)\n",
    "        \n",
    "    a, p = 0, len(A)\n",
    "    for i in range(p):\n",
    "        B = A[p-i-1] # B와 A는대칭의 구조를 가지므로 B = A[p-i-1]\n",
    "        \n",
    "        #각 조합이 이기는 횟수 이분탐색\n",
    "        temp = 0\n",
    "        for t in A[i]:\n",
    "            left, right = 0, len(B)-1\n",
    "            while left <= right:\n",
    "                mid = (left + right) // 2\n",
    "                if B[mid] < t:\n",
    "                    left = mid + 1\n",
    "                else :\n",
    "                    right = mid - 1\n",
    "            temp += left\n",
    "        \n",
    "        # 가장 승리 확률이 높은 경우의 수 반환\n",
    "        if a < temp:\n",
    "            a = temp\n",
    "            result = [x + 1 for x in cases[i]]\n",
    "    \n",
    "    return result\n",
    "\n",
    "ls = [[1, 2, 3, 4, 5, 6],\n",
    "    [2, 2, 4, 4, 6, 6]]\n",
    "\n",
    "print(solution(ls))"
   ]
  }
 ],
 "metadata": {
  "kernelspec": {
   "display_name": "base",
   "language": "python",
   "name": "python3"
  },
  "language_info": {
   "codemirror_mode": {
    "name": "ipython",
    "version": 3
   },
   "file_extension": ".py",
   "mimetype": "text/x-python",
   "name": "python",
   "nbconvert_exporter": "python",
   "pygments_lexer": "ipython3",
   "version": "3.9.12"
  }
 },
 "nbformat": 4,
 "nbformat_minor": 2
}
