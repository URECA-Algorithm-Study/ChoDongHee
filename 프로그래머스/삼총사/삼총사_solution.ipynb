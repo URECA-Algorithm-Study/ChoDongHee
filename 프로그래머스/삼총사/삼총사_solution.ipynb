{
 "cells": [
  {
   "cell_type": "code",
   "execution_count": null,
   "metadata": {},
   "outputs": [],
   "source": [
    "def solution(number) : \n",
    "    tot = 0 \n",
    "    def dfs(i, cnt, sumOfNum) : \n",
    "        nonlocal tot \n",
    "\n",
    "        if cnt == 3 and not sumOfNum : \n",
    "            tot += 1\n",
    "            return \n",
    "        if i == len(number) : \n",
    "            return \n",
    "        if cnt < 3 : \n",
    "            dfs(i+1, cnt+1, sumOfNum+number[i])\n",
    "            dfs(i+1, cnt, sumOfNum)\n",
    "    \n",
    "    dfs(0, 0, 0)\n",
    "\n",
    "    answer = tot\n",
    "    return answer"
   ]
  },
  {
   "cell_type": "code",
   "execution_count": 1,
   "metadata": {},
   "outputs": [
    {
     "ename": "",
     "evalue": "",
     "output_type": "error",
     "traceback": [
      "\u001b[1;31mThe Kernel crashed while executing code in the current cell or a previous cell. \n",
      "\u001b[1;31mPlease review the code in the cell(s) to identify a possible cause of the failure. \n",
      "\u001b[1;31mClick <a href='https://aka.ms/vscodeJupyterKernelCrash'>here</a> for more info. \n",
      "\u001b[1;31mView Jupyter <a href='command:jupyter.viewOutput'>log</a> for further details."
     ]
    }
   ],
   "source": [
    "def solution(number):\n",
    "    rs = []\n",
    "    number.sort()\n",
    "    for x in range(len(number)-2) :\n",
    "        num_x = number[x]\n",
    "\n",
    "        for y in range(x+1, len(number)-1) :\n",
    "            num_y = number[y]\n",
    "\n",
    "            for z in range(y+1, len(number)) :\n",
    "                num_z = number[z]\n",
    "\n",
    "                rs.append(num_x+num_y+num_z)\n",
    "                \n",
    "    return rs.count(0)"
   ]
  }
 ],
 "metadata": {
  "kernelspec": {
   "display_name": "base",
   "language": "python",
   "name": "python3"
  },
  "language_info": {
   "codemirror_mode": {
    "name": "ipython",
    "version": 3
   },
   "file_extension": ".py",
   "mimetype": "text/x-python",
   "name": "python",
   "nbconvert_exporter": "python",
   "pygments_lexer": "ipython3",
   "version": "3.9.12"
  }
 },
 "nbformat": 4,
 "nbformat_minor": 2
}
