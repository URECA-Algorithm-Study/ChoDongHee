{
 "cells": [
  {
   "cell_type": "code",
   "execution_count": null,
   "metadata": {},
   "outputs": [],
   "source": [
    "def solution(number) : \n",
    "    tot = 0 \n",
    "    def dfs(i, cnt, sumOfNum) : \n",
    "        nonlocal tot \n",
    "\n",
    "        if cnt == 3 and not sumOfNum : \n",
    "            tot += 1\n",
    "            return \n",
    "        if i == len(number) : \n",
    "            return \n",
    "        if cnt < 3 : \n",
    "            dfs(i+1, cnt+1, sumOfNum+number[i])\n",
    "            dfs(i+1, cnt, sumOfNum)\n",
    "    \n",
    "    dfs(0, 0, 0)\n",
    "\n",
    "    answer = tot\n",
    "    return answer"
   ]
  },
  {
   "cell_type": "code",
   "execution_count": 1,
   "metadata": {},
   "outputs": [],
   "source": [
    "def solution(number):\n",
    "    rs = []\n",
    "    number.sort()\n",
    "    for x in range(len(number)-2) :\n",
    "        num_x = number[x]\n",
    "\n",
    "        for y in range(x+1, len(number)-1) :\n",
    "            num_y = number[y]\n",
    "\n",
    "            for z in range(y+1, len(number)) :\n",
    "                num_z = number[z]\n",
    "\n",
    "                rs.append(num_x+num_y+num_z)\n",
    "                \n",
    "    return rs.count(0)"
   ]
  }
 ],
 "metadata": {
  "kernelspec": {
   "display_name": "base",
   "language": "python",
   "name": "python3"
  },
  "language_info": {
   "codemirror_mode": {
    "name": "ipython",
    "version": 3
   },
   "file_extension": ".py",
   "mimetype": "text/x-python",
   "name": "python",
   "nbconvert_exporter": "python",
   "pygments_lexer": "ipython3",
   "version": "3.9.12"
  }
 },
 "nbformat": 4,
 "nbformat_minor": 2
}
